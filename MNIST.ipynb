{
  "nbformat": 4,
  "nbformat_minor": 0,
  "metadata": {
    "colab": {
      "provenance": [],
      "authorship_tag": "ABX9TyO0J6pRlsBy7UOBIMxWw6ym",
      "include_colab_link": true
    },
    "kernelspec": {
      "name": "python3",
      "display_name": "Python 3"
    },
    "language_info": {
      "name": "python"
    }
  },
  "cells": [
    {
      "cell_type": "markdown",
      "metadata": {
        "id": "view-in-github",
        "colab_type": "text"
      },
      "source": [
        "<a href=\"https://colab.research.google.com/github/saurabhguptajhs01/DeepLearning/blob/main/MNIST.ipynb\" target=\"_parent\"><img src=\"https://colab.research.google.com/assets/colab-badge.svg\" alt=\"Open In Colab\"/></a>"
      ]
    },
    {
      "cell_type": "code",
      "execution_count": null,
      "metadata": {
        "id": "OR1T2Tk2rtcB"
      },
      "outputs": [],
      "source": [
        "import tensorflow as tf\n",
        "from tensorflow import keras"
      ]
    },
    {
      "cell_type": "code",
      "source": [
        "mnist = keras.datasets.mnist\n",
        "(X_train, Y_train),(X_test,Y_test) = mnist.load_data()"
      ],
      "metadata": {
        "colab": {
          "base_uri": "https://localhost:8080/"
        },
        "id": "Va0MEFkRsARv",
        "outputId": "acb5e2c3-a5f2-4757-8784-4bec5e254bc8"
      },
      "execution_count": null,
      "outputs": [
        {
          "output_type": "stream",
          "name": "stdout",
          "text": [
            "Downloading data from https://storage.googleapis.com/tensorflow/tf-keras-datasets/mnist.npz\n",
            "11490434/11490434 [==============================] - 0s 0us/step\n"
          ]
        }
      ]
    },
    {
      "cell_type": "code",
      "source": [
        "print(X_train.shape)\n",
        "print(X_test.shape)"
      ],
      "metadata": {
        "colab": {
          "base_uri": "https://localhost:8080/"
        },
        "id": "Tvz8cZtIsJLC",
        "outputId": "818e0dce-bca9-43bb-e888-ba1a0daeb7e5"
      },
      "execution_count": null,
      "outputs": [
        {
          "output_type": "stream",
          "name": "stdout",
          "text": [
            "(60000, 28, 28)\n",
            "(10000, 28, 28)\n"
          ]
        }
      ]
    },
    {
      "cell_type": "code",
      "source": [
        "X_train = X_train.astype('float32')\n",
        "X_test = X_test.astype('float32')"
      ],
      "metadata": {
        "id": "Ml6SkxFQsMAF"
      },
      "execution_count": null,
      "outputs": []
    },
    {
      "cell_type": "code",
      "source": [
        "RESHAPED = 784 #28*28 values reshaped as 784 neurons\n",
        "X_train = X_train.reshape(60000, RESHAPED)\n",
        "X_test = X_test.reshape(10000,RESHAPED)\n",
        "\n",
        "X_train = X_train.astype('float32')\n",
        "X_test = X_test.astype('float32')\n",
        "\n",
        "X_train /= 255\n",
        "X_test /= 255\n",
        "\n",
        "\n",
        "Y_train = tf.keras.utils.to_categorical(Y_train,10)\n",
        "Y_test = tf.keras.utils.to_categorical(Y_test,10)"
      ],
      "metadata": {
        "id": "GkcNcR3BsPHC"
      },
      "execution_count": null,
      "outputs": []
    },
    {
      "cell_type": "code",
      "source": [
        "import tensorflow as tf\n",
        "from tensorflow.keras.layers import Dense\n",
        "from tensorflow.keras import Sequential"
      ],
      "metadata": {
        "id": "oBJheJH8sRrZ"
      },
      "execution_count": null,
      "outputs": []
    },
    {
      "cell_type": "code",
      "source": [
        "model_0 = Sequential()\n",
        "model_0.add(Dense(10,input_shape=(784,),name='dense_layer',activation='softmax'))"
      ],
      "metadata": {
        "id": "tuW1mdCfsVw0"
      },
      "execution_count": null,
      "outputs": []
    },
    {
      "cell_type": "code",
      "source": [
        "model_0.compile(optimizer='SGD',loss='categorical_crossentropy',metrics=['accuracy'])"
      ],
      "metadata": {
        "id": "hGJwF2CWsYAw"
      },
      "execution_count": null,
      "outputs": []
    },
    {
      "cell_type": "code",
      "source": [
        "training = model_0.fit(X_train,Y_train,batch_size=64,epochs=70,validation_split=0.2)"
      ],
      "metadata": {
        "colab": {
          "base_uri": "https://localhost:8080/"
        },
        "id": "D4o4py0WsahE",
        "outputId": "99368584-45a7-4890-b207-4410f86b86f5"
      },
      "execution_count": null,
      "outputs": [
        {
          "output_type": "stream",
          "name": "stdout",
          "text": [
            "Epoch 1/70\n",
            "750/750 [==============================] - 2s 2ms/step - loss: 1.0813 - accuracy: 0.7464 - val_loss: 0.6543 - val_accuracy: 0.8562\n",
            "Epoch 2/70\n",
            "750/750 [==============================] - 2s 2ms/step - loss: 0.6087 - accuracy: 0.8538 - val_loss: 0.5080 - val_accuracy: 0.8790\n",
            "Epoch 3/70\n",
            "750/750 [==============================] - 1s 2ms/step - loss: 0.5136 - accuracy: 0.8689 - val_loss: 0.4504 - val_accuracy: 0.8884\n",
            "Epoch 4/70\n",
            "750/750 [==============================] - 1s 2ms/step - loss: 0.4674 - accuracy: 0.8780 - val_loss: 0.4182 - val_accuracy: 0.8936\n",
            "Epoch 5/70\n",
            "750/750 [==============================] - 2s 2ms/step - loss: 0.4387 - accuracy: 0.8840 - val_loss: 0.3971 - val_accuracy: 0.8972\n",
            "Epoch 6/70\n",
            "750/750 [==============================] - 2s 2ms/step - loss: 0.4189 - accuracy: 0.8880 - val_loss: 0.3818 - val_accuracy: 0.8992\n",
            "Epoch 7/70\n",
            "750/750 [==============================] - 2s 2ms/step - loss: 0.4041 - accuracy: 0.8903 - val_loss: 0.3704 - val_accuracy: 0.9012\n",
            "Epoch 8/70\n",
            "750/750 [==============================] - 2s 3ms/step - loss: 0.3923 - accuracy: 0.8925 - val_loss: 0.3614 - val_accuracy: 0.9031\n",
            "Epoch 9/70\n",
            "750/750 [==============================] - 2s 2ms/step - loss: 0.3828 - accuracy: 0.8953 - val_loss: 0.3540 - val_accuracy: 0.9043\n",
            "Epoch 10/70\n",
            "750/750 [==============================] - 2s 2ms/step - loss: 0.3749 - accuracy: 0.8969 - val_loss: 0.3478 - val_accuracy: 0.9060\n",
            "Epoch 11/70\n",
            "750/750 [==============================] - 2s 2ms/step - loss: 0.3682 - accuracy: 0.8980 - val_loss: 0.3425 - val_accuracy: 0.9070\n",
            "Epoch 12/70\n",
            "750/750 [==============================] - 1s 2ms/step - loss: 0.3623 - accuracy: 0.8998 - val_loss: 0.3380 - val_accuracy: 0.9080\n",
            "Epoch 13/70\n",
            "750/750 [==============================] - 2s 2ms/step - loss: 0.3572 - accuracy: 0.9012 - val_loss: 0.3337 - val_accuracy: 0.9083\n",
            "Epoch 14/70\n",
            "750/750 [==============================] - 1s 2ms/step - loss: 0.3527 - accuracy: 0.9022 - val_loss: 0.3301 - val_accuracy: 0.9097\n",
            "Epoch 15/70\n",
            "750/750 [==============================] - 2s 2ms/step - loss: 0.3485 - accuracy: 0.9029 - val_loss: 0.3273 - val_accuracy: 0.9109\n",
            "Epoch 16/70\n",
            "750/750 [==============================] - 2s 3ms/step - loss: 0.3449 - accuracy: 0.9037 - val_loss: 0.3243 - val_accuracy: 0.9112\n",
            "Epoch 17/70\n",
            "750/750 [==============================] - 2s 2ms/step - loss: 0.3415 - accuracy: 0.9046 - val_loss: 0.3219 - val_accuracy: 0.9118\n",
            "Epoch 18/70\n",
            "750/750 [==============================] - 1s 2ms/step - loss: 0.3385 - accuracy: 0.9055 - val_loss: 0.3191 - val_accuracy: 0.9123\n",
            "Epoch 19/70\n",
            "750/750 [==============================] - 2s 2ms/step - loss: 0.3357 - accuracy: 0.9061 - val_loss: 0.3170 - val_accuracy: 0.9134\n",
            "Epoch 20/70\n",
            "750/750 [==============================] - 2s 2ms/step - loss: 0.3331 - accuracy: 0.9069 - val_loss: 0.3150 - val_accuracy: 0.9133\n",
            "Epoch 21/70\n",
            "750/750 [==============================] - 1s 2ms/step - loss: 0.3307 - accuracy: 0.9072 - val_loss: 0.3132 - val_accuracy: 0.9135\n",
            "Epoch 22/70\n",
            "750/750 [==============================] - 1s 2ms/step - loss: 0.3284 - accuracy: 0.9084 - val_loss: 0.3113 - val_accuracy: 0.9134\n",
            "Epoch 23/70\n",
            "750/750 [==============================] - 2s 2ms/step - loss: 0.3263 - accuracy: 0.9086 - val_loss: 0.3098 - val_accuracy: 0.9144\n",
            "Epoch 24/70\n",
            "750/750 [==============================] - 2s 3ms/step - loss: 0.3244 - accuracy: 0.9091 - val_loss: 0.3083 - val_accuracy: 0.9147\n",
            "Epoch 25/70\n",
            "750/750 [==============================] - 2s 2ms/step - loss: 0.3225 - accuracy: 0.9099 - val_loss: 0.3070 - val_accuracy: 0.9149\n",
            "Epoch 26/70\n",
            "750/750 [==============================] - 2s 2ms/step - loss: 0.3208 - accuracy: 0.9100 - val_loss: 0.3057 - val_accuracy: 0.9143\n",
            "Epoch 27/70\n",
            "750/750 [==============================] - 2s 2ms/step - loss: 0.3191 - accuracy: 0.9109 - val_loss: 0.3043 - val_accuracy: 0.9157\n",
            "Epoch 28/70\n",
            "750/750 [==============================] - 2s 2ms/step - loss: 0.3176 - accuracy: 0.9109 - val_loss: 0.3030 - val_accuracy: 0.9154\n",
            "Epoch 29/70\n",
            "750/750 [==============================] - 2s 2ms/step - loss: 0.3162 - accuracy: 0.9111 - val_loss: 0.3022 - val_accuracy: 0.9157\n",
            "Epoch 30/70\n",
            "750/750 [==============================] - 1s 2ms/step - loss: 0.3147 - accuracy: 0.9118 - val_loss: 0.3010 - val_accuracy: 0.9159\n",
            "Epoch 31/70\n",
            "750/750 [==============================] - 1s 2ms/step - loss: 0.3134 - accuracy: 0.9123 - val_loss: 0.3000 - val_accuracy: 0.9161\n",
            "Epoch 32/70\n",
            "750/750 [==============================] - 2s 3ms/step - loss: 0.3121 - accuracy: 0.9122 - val_loss: 0.2992 - val_accuracy: 0.9163\n",
            "Epoch 33/70\n",
            "750/750 [==============================] - 2s 2ms/step - loss: 0.3110 - accuracy: 0.9131 - val_loss: 0.2982 - val_accuracy: 0.9176\n",
            "Epoch 34/70\n",
            "750/750 [==============================] - 1s 2ms/step - loss: 0.3098 - accuracy: 0.9130 - val_loss: 0.2974 - val_accuracy: 0.9176\n",
            "Epoch 35/70\n",
            "750/750 [==============================] - 2s 2ms/step - loss: 0.3086 - accuracy: 0.9136 - val_loss: 0.2966 - val_accuracy: 0.9183\n",
            "Epoch 36/70\n",
            "750/750 [==============================] - 2s 2ms/step - loss: 0.3076 - accuracy: 0.9140 - val_loss: 0.2958 - val_accuracy: 0.9183\n",
            "Epoch 37/70\n",
            "750/750 [==============================] - 1s 2ms/step - loss: 0.3066 - accuracy: 0.9141 - val_loss: 0.2950 - val_accuracy: 0.9184\n",
            "Epoch 38/70\n",
            "750/750 [==============================] - 1s 2ms/step - loss: 0.3056 - accuracy: 0.9146 - val_loss: 0.2943 - val_accuracy: 0.9186\n",
            "Epoch 39/70\n",
            "750/750 [==============================] - 1s 2ms/step - loss: 0.3047 - accuracy: 0.9150 - val_loss: 0.2937 - val_accuracy: 0.9188\n",
            "Epoch 40/70\n",
            "750/750 [==============================] - 2s 3ms/step - loss: 0.3037 - accuracy: 0.9154 - val_loss: 0.2931 - val_accuracy: 0.9185\n",
            "Epoch 41/70\n",
            "750/750 [==============================] - 2s 3ms/step - loss: 0.3029 - accuracy: 0.9155 - val_loss: 0.2923 - val_accuracy: 0.9187\n",
            "Epoch 42/70\n",
            "750/750 [==============================] - 2s 2ms/step - loss: 0.3020 - accuracy: 0.9158 - val_loss: 0.2918 - val_accuracy: 0.9189\n",
            "Epoch 43/70\n",
            "750/750 [==============================] - 1s 2ms/step - loss: 0.3012 - accuracy: 0.9158 - val_loss: 0.2910 - val_accuracy: 0.9192\n",
            "Epoch 44/70\n",
            "750/750 [==============================] - 1s 2ms/step - loss: 0.3004 - accuracy: 0.9160 - val_loss: 0.2908 - val_accuracy: 0.9190\n",
            "Epoch 45/70\n",
            "750/750 [==============================] - 2s 2ms/step - loss: 0.2997 - accuracy: 0.9162 - val_loss: 0.2900 - val_accuracy: 0.9192\n",
            "Epoch 46/70\n",
            "750/750 [==============================] - 2s 2ms/step - loss: 0.2989 - accuracy: 0.9165 - val_loss: 0.2895 - val_accuracy: 0.9197\n",
            "Epoch 47/70\n",
            "750/750 [==============================] - 1s 2ms/step - loss: 0.2982 - accuracy: 0.9165 - val_loss: 0.2891 - val_accuracy: 0.9207\n",
            "Epoch 48/70\n",
            "750/750 [==============================] - 2s 2ms/step - loss: 0.2974 - accuracy: 0.9168 - val_loss: 0.2886 - val_accuracy: 0.9205\n",
            "Epoch 49/70\n",
            "750/750 [==============================] - 2s 3ms/step - loss: 0.2969 - accuracy: 0.9170 - val_loss: 0.2881 - val_accuracy: 0.9200\n",
            "Epoch 50/70\n",
            "750/750 [==============================] - 2s 2ms/step - loss: 0.2962 - accuracy: 0.9171 - val_loss: 0.2876 - val_accuracy: 0.9208\n",
            "Epoch 51/70\n",
            "750/750 [==============================] - 1s 2ms/step - loss: 0.2955 - accuracy: 0.9176 - val_loss: 0.2873 - val_accuracy: 0.9209\n",
            "Epoch 52/70\n",
            "750/750 [==============================] - 2s 2ms/step - loss: 0.2950 - accuracy: 0.9175 - val_loss: 0.2868 - val_accuracy: 0.9213\n",
            "Epoch 53/70\n",
            "750/750 [==============================] - 2s 2ms/step - loss: 0.2943 - accuracy: 0.9177 - val_loss: 0.2864 - val_accuracy: 0.9213\n",
            "Epoch 54/70\n",
            "750/750 [==============================] - 1s 2ms/step - loss: 0.2937 - accuracy: 0.9180 - val_loss: 0.2858 - val_accuracy: 0.9213\n",
            "Epoch 55/70\n",
            "750/750 [==============================] - 1s 2ms/step - loss: 0.2932 - accuracy: 0.9182 - val_loss: 0.2854 - val_accuracy: 0.9215\n",
            "Epoch 56/70\n",
            "750/750 [==============================] - 2s 3ms/step - loss: 0.2926 - accuracy: 0.9181 - val_loss: 0.2853 - val_accuracy: 0.9213\n",
            "Epoch 57/70\n",
            "750/750 [==============================] - 2s 3ms/step - loss: 0.2920 - accuracy: 0.9188 - val_loss: 0.2849 - val_accuracy: 0.9212\n",
            "Epoch 58/70\n",
            "750/750 [==============================] - 2s 2ms/step - loss: 0.2915 - accuracy: 0.9185 - val_loss: 0.2844 - val_accuracy: 0.9215\n",
            "Epoch 59/70\n",
            "750/750 [==============================] - 2s 2ms/step - loss: 0.2910 - accuracy: 0.9190 - val_loss: 0.2842 - val_accuracy: 0.9213\n",
            "Epoch 60/70\n",
            "750/750 [==============================] - 1s 2ms/step - loss: 0.2905 - accuracy: 0.9190 - val_loss: 0.2836 - val_accuracy: 0.9217\n",
            "Epoch 61/70\n",
            "750/750 [==============================] - 2s 2ms/step - loss: 0.2900 - accuracy: 0.9195 - val_loss: 0.2835 - val_accuracy: 0.9216\n",
            "Epoch 62/70\n",
            "750/750 [==============================] - 1s 2ms/step - loss: 0.2896 - accuracy: 0.9194 - val_loss: 0.2830 - val_accuracy: 0.9218\n",
            "Epoch 63/70\n",
            "750/750 [==============================] - 2s 2ms/step - loss: 0.2891 - accuracy: 0.9189 - val_loss: 0.2828 - val_accuracy: 0.9219\n",
            "Epoch 64/70\n",
            "750/750 [==============================] - 2s 3ms/step - loss: 0.2886 - accuracy: 0.9194 - val_loss: 0.2823 - val_accuracy: 0.9218\n",
            "Epoch 65/70\n",
            "750/750 [==============================] - 2s 3ms/step - loss: 0.2881 - accuracy: 0.9195 - val_loss: 0.2823 - val_accuracy: 0.9221\n",
            "Epoch 66/70\n",
            "750/750 [==============================] - 2s 2ms/step - loss: 0.2877 - accuracy: 0.9203 - val_loss: 0.2818 - val_accuracy: 0.9221\n",
            "Epoch 67/70\n",
            "750/750 [==============================] - 2s 2ms/step - loss: 0.2873 - accuracy: 0.9200 - val_loss: 0.2816 - val_accuracy: 0.9220\n",
            "Epoch 68/70\n",
            "750/750 [==============================] - 1s 2ms/step - loss: 0.2869 - accuracy: 0.9200 - val_loss: 0.2815 - val_accuracy: 0.9222\n",
            "Epoch 69/70\n",
            "750/750 [==============================] - 1s 2ms/step - loss: 0.2864 - accuracy: 0.9204 - val_loss: 0.2810 - val_accuracy: 0.9219\n",
            "Epoch 70/70\n",
            "750/750 [==============================] - 1s 2ms/step - loss: 0.2861 - accuracy: 0.9205 - val_loss: 0.2808 - val_accuracy: 0.9227\n"
          ]
        }
      ]
    },
    {
      "cell_type": "code",
      "source": [
        "import matplotlib.pyplot as plt\n",
        "%matplotlib inline\n",
        "print(training.history.keys())"
      ],
      "metadata": {
        "colab": {
          "base_uri": "https://localhost:8080/"
        },
        "id": "lX822KENs7Ih",
        "outputId": "df256468-d7d2-4f8c-93de-36f3f49aec39"
      },
      "execution_count": null,
      "outputs": [
        {
          "output_type": "stream",
          "name": "stdout",
          "text": [
            "dict_keys(['loss', 'accuracy', 'val_loss', 'val_accuracy'])\n"
          ]
        }
      ]
    },
    {
      "cell_type": "code",
      "source": [
        "#summarize training for accuracy\n",
        "plt.plot(training.history['accuracy'])\n",
        "plt.plot(training.history['val_accuracy'])\n",
        "plt.title('model accuracy')\n",
        "plt.ylabel('accuracy')\n",
        "plt.xlabel('epoch')\n",
        "plt.legend(['train','test'],loc='upper left')\n",
        "plt.show()"
      ],
      "metadata": {
        "colab": {
          "base_uri": "https://localhost:8080/",
          "height": 472
        },
        "id": "uEDQleDLtCGb",
        "outputId": "284a63ac-8fa8-47a0-ee6b-80ae663801f2"
      },
      "execution_count": null,
      "outputs": [
        {
          "output_type": "display_data",
          "data": {
            "text/plain": [
              "<Figure size 640x480 with 1 Axes>"
            ],
            "image/png": "[encoded data removed]"
          },
          "metadata": {}
        }
      ]
    },
    {
      "cell_type": "code",
      "source": [
        "#summarize training for loss\n",
        "plt.plot(training.history['loss'])\n",
        "plt.plot(training.history['val_loss'])\n",
        "plt.title('model loss')\n",
        "plt.ylabel('loss')\n",
        "plt.xlabel('epoch')\n",
        "plt.legend(['train','test'],loc='upper left')\n",
        "plt.show()"
      ],
      "metadata": {
        "colab": {
          "base_uri": "https://localhost:8080/",
          "height": 472
        },
        "id": "06RZe3pptLj-",
        "outputId": "6d458998-53ec-48f0-d556-dd02c5d345c0"
      },
      "execution_count": null,
      "outputs": [
        {
          "output_type": "display_data",
          "data": {
            "text/plain": [
              "<Figure size 640x480 with 1 Axes>"
            ],
            "image/png": "[encoded data removed]"
          },
          "metadata": {}
        }
      ]
    },
    {
      "cell_type": "code",
      "source": [
        "#evaluate the model\n",
        "test_loss, test_acc = model_0.evaluate(X_test, Y_test)\n",
        "print('Test accuracy:', test_acc)"
      ],
      "metadata": {
        "colab": {
          "base_uri": "https://localhost:8080/"
        },
        "id": "JzV3mvoatXhS",
        "outputId": "42816848-e13b-4e99-a0a9-865a7f53b544"
      },
      "execution_count": null,
      "outputs": [
        {
          "output_type": "stream",
          "name": "stdout",
          "text": [
            "313/313 [==============================] - 0s 1ms/step - loss: 0.2831 - accuracy: 0.9218\n",
            "Test accuracy: 0.9218000173568726\n"
          ]
        }
      ]
    },
    {
      "cell_type": "code",
      "source": [
        "model_0.summary"
      ],
      "metadata": {
        "colab": {
          "base_uri": "https://localhost:8080/"
        },
        "id": "iM70wSp7titC",
        "outputId": "ca11b5e7-2822-4896-bd5b-5f932a130460"
      },
      "execution_count": null,
      "outputs": [
        {
          "output_type": "execute_result",
          "data": {
            "text/plain": [
              "<bound method Model.summary of <keras.src.engine.sequential.Sequential object at 0x7ecceda5ba90>>"
            ]
          },
          "metadata": {},
          "execution_count": 16
        }
      ]
    },
    {
      "cell_type": "code",
      "source": [
        "model_0.get_config()"
      ],
      "metadata": {
        "colab": {
          "base_uri": "https://localhost:8080/"
        },
        "id": "KGIlVxMPtnqk",
        "outputId": "35b9bc31-48e1-40c2-956b-8d271b8d6d1d"
      },
      "execution_count": null,
      "outputs": [
        {
          "output_type": "execute_result",
          "data": {
            "text/plain": [
              "{'name': 'sequential',\n",
              " 'layers': [{'module': 'keras.layers',\n",
              "   'class_name': 'InputLayer',\n",
              "   'config': {'batch_input_shape': (None, 784),\n",
              "    'dtype': 'float32',\n",
              "    'sparse': False,\n",
              "    'ragged': False,\n",
              "    'name': 'dense_layer_input'},\n",
              "   'registered_name': None},\n",
              "  {'module': 'keras.layers',\n",
              "   'class_name': 'Dense',\n",
              "   'config': {'name': 'dense_layer',\n",
              "    'trainable': True,\n",
              "    'dtype': 'float32',\n",
              "    'batch_input_shape': (None, 784),\n",
              "    'units': 10,\n",
              "    'activation': 'softmax',\n",
              "    'use_bias': True,\n",
              "    'kernel_initializer': {'module': 'keras.initializers',\n",
              "     'class_name': 'GlorotUniform',\n",
              "     'config': {'seed': None},\n",
              "     'registered_name': None},\n",
              "    'bias_initializer': {'module': 'keras.initializers',\n",
              "     'class_name': 'Zeros',\n",
              "     'config': {},\n",
              "     'registered_name': None},\n",
              "    'kernel_regularizer': None,\n",
              "    'bias_regularizer': None,\n",
              "    'activity_regularizer': None,\n",
              "    'kernel_constraint': None,\n",
              "    'bias_constraint': None},\n",
              "   'registered_name': None,\n",
              "   'build_config': {'input_shape': (None, 784)}}]}"
            ]
          },
          "metadata": {},
          "execution_count": 17
        }
      ]
    },
    {
      "cell_type": "code",
      "source": [
        "model_1 = tf.keras.Sequential()\n",
        "N_hidden =64\n",
        "model_1.add(Dense(N_hidden,name='dense_layer_1',input_shape=(784,),activation='relu'))\n",
        "model_1.add(Dense(N_hidden,name='dense_layer_2',activation='relu'))\n",
        "model_1.add(Dense(10,name='dense_layer_3',activation='softmax'))"
      ],
      "metadata": {
        "id": "327W6aOruE2Y"
      },
      "execution_count": null,
      "outputs": []
    },
    {
      "cell_type": "code",
      "source": [
        "model_1.compile(optimizer='SGD',loss='categorical_crossentropy',metrics=['accuracy'])"
      ],
      "metadata": {
        "id": "P0xVJAGrvYr7"
      },
      "execution_count": null,
      "outputs": []
    },
    {
      "cell_type": "code",
      "source": [
        "training = model_1.fit(X_train,Y_train,batch_size=64,epochs=100,validation_split=0.2)"
      ],
      "metadata": {
        "colab": {
          "base_uri": "https://localhost:8080/"
        },
        "id": "ajCfv5cIvldc",
        "outputId": "e69abe6b-d7c1-484a-8d6f-2bf72e890050"
      },
      "execution_count": null,
      "outputs": [
        {
          "output_type": "stream",
          "name": "stdout",
          "text": [
            "Epoch 1/100\n",
            "750/750 [==============================] - 3s 3ms/step - loss: 1.0960 - accuracy: 0.7079 - val_loss: 0.4812 - val_accuracy: 0.8758\n",
            "Epoch 2/100\n",
            "750/750 [==============================] - 2s 3ms/step - loss: 0.4236 - accuracy: 0.8843 - val_loss: 0.3398 - val_accuracy: 0.9029\n",
            "Epoch 3/100\n",
            "750/750 [==============================] - 2s 3ms/step - loss: 0.3392 - accuracy: 0.9039 - val_loss: 0.2969 - val_accuracy: 0.9143\n",
            "Epoch 4/100\n",
            "750/750 [==============================] - 2s 2ms/step - loss: 0.3014 - accuracy: 0.9147 - val_loss: 0.2708 - val_accuracy: 0.9236\n",
            "Epoch 5/100\n",
            "750/750 [==============================] - 3s 4ms/step - loss: 0.2763 - accuracy: 0.9211 - val_loss: 0.2514 - val_accuracy: 0.9284\n",
            "Epoch 6/100\n",
            "750/750 [==============================] - 2s 3ms/step - loss: 0.2566 - accuracy: 0.9264 - val_loss: 0.2386 - val_accuracy: 0.9310\n",
            "Epoch 7/100\n",
            "750/750 [==============================] - 2s 3ms/step - loss: 0.2410 - accuracy: 0.9310 - val_loss: 0.2250 - val_accuracy: 0.9349\n",
            "Epoch 8/100\n",
            "750/750 [==============================] - 2s 3ms/step - loss: 0.2276 - accuracy: 0.9344 - val_loss: 0.2148 - val_accuracy: 0.9378\n",
            "Epoch 9/100\n",
            "750/750 [==============================] - 2s 3ms/step - loss: 0.2160 - accuracy: 0.9378 - val_loss: 0.2066 - val_accuracy: 0.9407\n",
            "Epoch 10/100\n",
            "750/750 [==============================] - 2s 3ms/step - loss: 0.2053 - accuracy: 0.9407 - val_loss: 0.1979 - val_accuracy: 0.9432\n",
            "Epoch 11/100\n",
            "750/750 [==============================] - 3s 4ms/step - loss: 0.1962 - accuracy: 0.9434 - val_loss: 0.1916 - val_accuracy: 0.9460\n",
            "Epoch 12/100\n",
            "750/750 [==============================] - 2s 3ms/step - loss: 0.1877 - accuracy: 0.9455 - val_loss: 0.1849 - val_accuracy: 0.9471\n",
            "Epoch 13/100\n",
            "750/750 [==============================] - 2s 3ms/step - loss: 0.1798 - accuracy: 0.9478 - val_loss: 0.1791 - val_accuracy: 0.9486\n",
            "Epoch 14/100\n",
            "750/750 [==============================] - 2s 3ms/step - loss: 0.1726 - accuracy: 0.9500 - val_loss: 0.1744 - val_accuracy: 0.9505\n",
            "Epoch 15/100\n",
            "750/750 [==============================] - 2s 3ms/step - loss: 0.1661 - accuracy: 0.9522 - val_loss: 0.1685 - val_accuracy: 0.9528\n",
            "Epoch 16/100\n",
            "750/750 [==============================] - 2s 3ms/step - loss: 0.1599 - accuracy: 0.9540 - val_loss: 0.1646 - val_accuracy: 0.9540\n",
            "Epoch 17/100\n",
            "750/750 [==============================] - 3s 4ms/step - loss: 0.1541 - accuracy: 0.9557 - val_loss: 0.1598 - val_accuracy: 0.9537\n",
            "Epoch 18/100\n",
            "750/750 [==============================] - 2s 3ms/step - loss: 0.1487 - accuracy: 0.9571 - val_loss: 0.1588 - val_accuracy: 0.9546\n",
            "Epoch 19/100\n",
            "750/750 [==============================] - 2s 3ms/step - loss: 0.1436 - accuracy: 0.9589 - val_loss: 0.1542 - val_accuracy: 0.9564\n",
            "Epoch 20/100\n",
            "750/750 [==============================] - 2s 3ms/step - loss: 0.1388 - accuracy: 0.9596 - val_loss: 0.1502 - val_accuracy: 0.9576\n",
            "Epoch 21/100\n",
            "750/750 [==============================] - 2s 3ms/step - loss: 0.1344 - accuracy: 0.9610 - val_loss: 0.1471 - val_accuracy: 0.9584\n",
            "Epoch 22/100\n",
            "750/750 [==============================] - 2s 3ms/step - loss: 0.1301 - accuracy: 0.9624 - val_loss: 0.1462 - val_accuracy: 0.9586\n",
            "Epoch 23/100\n",
            "750/750 [==============================] - 3s 4ms/step - loss: 0.1261 - accuracy: 0.9634 - val_loss: 0.1413 - val_accuracy: 0.9597\n",
            "Epoch 24/100\n",
            "750/750 [==============================] - 2s 3ms/step - loss: 0.1220 - accuracy: 0.9655 - val_loss: 0.1399 - val_accuracy: 0.9601\n",
            "Epoch 25/100\n",
            "750/750 [==============================] - 2s 3ms/step - loss: 0.1185 - accuracy: 0.9657 - val_loss: 0.1373 - val_accuracy: 0.9617\n",
            "Epoch 26/100\n",
            "750/750 [==============================] - 2s 3ms/step - loss: 0.1153 - accuracy: 0.9669 - val_loss: 0.1355 - val_accuracy: 0.9611\n",
            "Epoch 27/100\n",
            "750/750 [==============================] - 2s 3ms/step - loss: 0.1120 - accuracy: 0.9675 - val_loss: 0.1340 - val_accuracy: 0.9621\n",
            "Epoch 28/100\n",
            "750/750 [==============================] - 2s 3ms/step - loss: 0.1088 - accuracy: 0.9685 - val_loss: 0.1303 - val_accuracy: 0.9636\n",
            "Epoch 29/100\n",
            "750/750 [==============================] - 3s 4ms/step - loss: 0.1058 - accuracy: 0.9696 - val_loss: 0.1295 - val_accuracy: 0.9634\n",
            "Epoch 30/100\n",
            "750/750 [==============================] - 2s 3ms/step - loss: 0.1030 - accuracy: 0.9705 - val_loss: 0.1306 - val_accuracy: 0.9617\n",
            "Epoch 31/100\n",
            "750/750 [==============================] - 2s 3ms/step - loss: 0.1003 - accuracy: 0.9715 - val_loss: 0.1265 - val_accuracy: 0.9646\n",
            "Epoch 32/100\n",
            "750/750 [==============================] - 2s 3ms/step - loss: 0.0979 - accuracy: 0.9727 - val_loss: 0.1255 - val_accuracy: 0.9635\n",
            "Epoch 33/100\n",
            "750/750 [==============================] - 2s 3ms/step - loss: 0.0952 - accuracy: 0.9731 - val_loss: 0.1244 - val_accuracy: 0.9632\n",
            "Epoch 34/100\n",
            "750/750 [==============================] - 2s 3ms/step - loss: 0.0927 - accuracy: 0.9737 - val_loss: 0.1228 - val_accuracy: 0.9644\n",
            "Epoch 35/100\n",
            "750/750 [==============================] - 3s 4ms/step - loss: 0.0906 - accuracy: 0.9747 - val_loss: 0.1223 - val_accuracy: 0.9643\n",
            "Epoch 36/100\n",
            "750/750 [==============================] - 2s 3ms/step - loss: 0.0884 - accuracy: 0.9756 - val_loss: 0.1197 - val_accuracy: 0.9657\n",
            "Epoch 37/100\n",
            "750/750 [==============================] - 2s 3ms/step - loss: 0.0865 - accuracy: 0.9758 - val_loss: 0.1190 - val_accuracy: 0.9650\n",
            "Epoch 38/100\n",
            "750/750 [==============================] - 2s 3ms/step - loss: 0.0844 - accuracy: 0.9762 - val_loss: 0.1176 - val_accuracy: 0.9666\n",
            "Epoch 39/100\n",
            "750/750 [==============================] - 2s 3ms/step - loss: 0.0823 - accuracy: 0.9770 - val_loss: 0.1163 - val_accuracy: 0.9664\n",
            "Epoch 40/100\n",
            "750/750 [==============================] - 2s 3ms/step - loss: 0.0806 - accuracy: 0.9772 - val_loss: 0.1183 - val_accuracy: 0.9664\n",
            "Epoch 41/100\n",
            "750/750 [==============================] - 3s 4ms/step - loss: 0.0785 - accuracy: 0.9779 - val_loss: 0.1153 - val_accuracy: 0.9661\n",
            "Epoch 42/100\n",
            "750/750 [==============================] - 2s 3ms/step - loss: 0.0767 - accuracy: 0.9787 - val_loss: 0.1151 - val_accuracy: 0.9669\n",
            "Epoch 43/100\n",
            "750/750 [==============================] - 2s 3ms/step - loss: 0.0750 - accuracy: 0.9790 - val_loss: 0.1140 - val_accuracy: 0.9675\n",
            "Epoch 44/100\n",
            "750/750 [==============================] - 2s 3ms/step - loss: 0.0733 - accuracy: 0.9795 - val_loss: 0.1133 - val_accuracy: 0.9669\n",
            "Epoch 45/100\n",
            "750/750 [==============================] - 2s 3ms/step - loss: 0.0718 - accuracy: 0.9801 - val_loss: 0.1135 - val_accuracy: 0.9684\n",
            "Epoch 46/100\n",
            "750/750 [==============================] - 2s 3ms/step - loss: 0.0704 - accuracy: 0.9806 - val_loss: 0.1124 - val_accuracy: 0.9681\n",
            "Epoch 47/100\n",
            "750/750 [==============================] - 3s 4ms/step - loss: 0.0688 - accuracy: 0.9814 - val_loss: 0.1117 - val_accuracy: 0.9675\n",
            "Epoch 48/100\n",
            "750/750 [==============================] - 3s 3ms/step - loss: 0.0674 - accuracy: 0.9820 - val_loss: 0.1125 - val_accuracy: 0.9682\n",
            "Epoch 49/100\n",
            "750/750 [==============================] - 2s 3ms/step - loss: 0.0660 - accuracy: 0.9819 - val_loss: 0.1097 - val_accuracy: 0.9691\n",
            "Epoch 50/100\n",
            "750/750 [==============================] - 2s 3ms/step - loss: 0.0648 - accuracy: 0.9821 - val_loss: 0.1088 - val_accuracy: 0.9691\n",
            "Epoch 51/100\n",
            "750/750 [==============================] - 2s 3ms/step - loss: 0.0633 - accuracy: 0.9828 - val_loss: 0.1078 - val_accuracy: 0.9691\n",
            "Epoch 52/100\n",
            "750/750 [==============================] - 2s 3ms/step - loss: 0.0621 - accuracy: 0.9831 - val_loss: 0.1082 - val_accuracy: 0.9691\n",
            "Epoch 53/100\n",
            "750/750 [==============================] - 2s 3ms/step - loss: 0.0607 - accuracy: 0.9834 - val_loss: 0.1087 - val_accuracy: 0.9687\n",
            "Epoch 54/100\n",
            "750/750 [==============================] - 3s 4ms/step - loss: 0.0597 - accuracy: 0.9836 - val_loss: 0.1079 - val_accuracy: 0.9681\n",
            "Epoch 55/100\n",
            "750/750 [==============================] - 2s 3ms/step - loss: 0.0586 - accuracy: 0.9841 - val_loss: 0.1076 - val_accuracy: 0.9685\n",
            "Epoch 56/100\n",
            "750/750 [==============================] - 2s 3ms/step - loss: 0.0574 - accuracy: 0.9846 - val_loss: 0.1071 - val_accuracy: 0.9688\n",
            "Epoch 57/100\n",
            "750/750 [==============================] - 2s 3ms/step - loss: 0.0564 - accuracy: 0.9848 - val_loss: 0.1060 - val_accuracy: 0.9691\n",
            "Epoch 58/100\n",
            "750/750 [==============================] - 2s 3ms/step - loss: 0.0551 - accuracy: 0.9855 - val_loss: 0.1065 - val_accuracy: 0.9685\n",
            "Epoch 59/100\n",
            "750/750 [==============================] - 2s 3ms/step - loss: 0.0540 - accuracy: 0.9857 - val_loss: 0.1062 - val_accuracy: 0.9677\n",
            "Epoch 60/100\n",
            "750/750 [==============================] - 3s 4ms/step - loss: 0.0531 - accuracy: 0.9859 - val_loss: 0.1047 - val_accuracy: 0.9700\n",
            "Epoch 61/100\n",
            "750/750 [==============================] - 2s 3ms/step - loss: 0.0523 - accuracy: 0.9863 - val_loss: 0.1061 - val_accuracy: 0.9699\n",
            "Epoch 62/100\n",
            "750/750 [==============================] - 2s 3ms/step - loss: 0.0511 - accuracy: 0.9865 - val_loss: 0.1060 - val_accuracy: 0.9685\n",
            "Epoch 63/100\n",
            "750/750 [==============================] - 2s 3ms/step - loss: 0.0500 - accuracy: 0.9867 - val_loss: 0.1064 - val_accuracy: 0.9694\n",
            "Epoch 64/100\n",
            "750/750 [==============================] - 2s 3ms/step - loss: 0.0493 - accuracy: 0.9870 - val_loss: 0.1046 - val_accuracy: 0.9692\n",
            "Epoch 65/100\n",
            "750/750 [==============================] - 2s 3ms/step - loss: 0.0482 - accuracy: 0.9877 - val_loss: 0.1048 - val_accuracy: 0.9695\n",
            "Epoch 66/100\n",
            "750/750 [==============================] - 3s 4ms/step - loss: 0.0473 - accuracy: 0.9878 - val_loss: 0.1040 - val_accuracy: 0.9693\n",
            "Epoch 67/100\n",
            "750/750 [==============================] - 2s 3ms/step - loss: 0.0466 - accuracy: 0.9880 - val_loss: 0.1046 - val_accuracy: 0.9691\n",
            "Epoch 68/100\n",
            "750/750 [==============================] - 2s 3ms/step - loss: 0.0457 - accuracy: 0.9884 - val_loss: 0.1041 - val_accuracy: 0.9694\n",
            "Epoch 69/100\n",
            "750/750 [==============================] - 2s 3ms/step - loss: 0.0448 - accuracy: 0.9887 - val_loss: 0.1055 - val_accuracy: 0.9694\n",
            "Epoch 70/100\n",
            "750/750 [==============================] - 2s 3ms/step - loss: 0.0437 - accuracy: 0.9894 - val_loss: 0.1034 - val_accuracy: 0.9696\n",
            "Epoch 71/100\n",
            "750/750 [==============================] - 2s 3ms/step - loss: 0.0432 - accuracy: 0.9895 - val_loss: 0.1033 - val_accuracy: 0.9700\n",
            "Epoch 72/100\n",
            "750/750 [==============================] - 3s 4ms/step - loss: 0.0422 - accuracy: 0.9897 - val_loss: 0.1042 - val_accuracy: 0.9696\n",
            "Epoch 73/100\n",
            "750/750 [==============================] - 2s 3ms/step - loss: 0.0415 - accuracy: 0.9896 - val_loss: 0.1034 - val_accuracy: 0.9697\n",
            "Epoch 74/100\n",
            "750/750 [==============================] - 2s 3ms/step - loss: 0.0409 - accuracy: 0.9901 - val_loss: 0.1039 - val_accuracy: 0.9699\n",
            "Epoch 75/100\n",
            "750/750 [==============================] - 2s 3ms/step - loss: 0.0402 - accuracy: 0.9899 - val_loss: 0.1036 - val_accuracy: 0.9693\n",
            "Epoch 76/100\n",
            "750/750 [==============================] - 2s 3ms/step - loss: 0.0392 - accuracy: 0.9905 - val_loss: 0.1031 - val_accuracy: 0.9696\n",
            "Epoch 77/100\n",
            "750/750 [==============================] - 2s 3ms/step - loss: 0.0385 - accuracy: 0.9910 - val_loss: 0.1035 - val_accuracy: 0.9702\n",
            "Epoch 78/100\n",
            "750/750 [==============================] - 3s 4ms/step - loss: 0.0379 - accuracy: 0.9910 - val_loss: 0.1053 - val_accuracy: 0.9693\n",
            "Epoch 79/100\n",
            "750/750 [==============================] - 2s 3ms/step - loss: 0.0372 - accuracy: 0.9912 - val_loss: 0.1033 - val_accuracy: 0.9698\n",
            "Epoch 80/100\n",
            "750/750 [==============================] - 2s 3ms/step - loss: 0.0366 - accuracy: 0.9915 - val_loss: 0.1045 - val_accuracy: 0.9700\n",
            "Epoch 81/100\n",
            "750/750 [==============================] - 2s 3ms/step - loss: 0.0359 - accuracy: 0.9917 - val_loss: 0.1048 - val_accuracy: 0.9697\n",
            "Epoch 82/100\n",
            "750/750 [==============================] - 2s 3ms/step - loss: 0.0353 - accuracy: 0.9918 - val_loss: 0.1053 - val_accuracy: 0.9689\n",
            "Epoch 83/100\n",
            "750/750 [==============================] - 2s 3ms/step - loss: 0.0345 - accuracy: 0.9921 - val_loss: 0.1038 - val_accuracy: 0.9698\n",
            "Epoch 84/100\n",
            "750/750 [==============================] - 3s 4ms/step - loss: 0.0340 - accuracy: 0.9922 - val_loss: 0.1041 - val_accuracy: 0.9693\n",
            "Epoch 85/100\n",
            "750/750 [==============================] - 2s 3ms/step - loss: 0.0332 - accuracy: 0.9925 - val_loss: 0.1062 - val_accuracy: 0.9687\n",
            "Epoch 86/100\n",
            "750/750 [==============================] - 2s 3ms/step - loss: 0.0328 - accuracy: 0.9926 - val_loss: 0.1050 - val_accuracy: 0.9694\n",
            "Epoch 87/100\n",
            "750/750 [==============================] - 2s 3ms/step - loss: 0.0321 - accuracy: 0.9928 - val_loss: 0.1045 - val_accuracy: 0.9696\n",
            "Epoch 88/100\n",
            "750/750 [==============================] - 2s 3ms/step - loss: 0.0317 - accuracy: 0.9927 - val_loss: 0.1044 - val_accuracy: 0.9697\n",
            "Epoch 89/100\n",
            "750/750 [==============================] - 2s 3ms/step - loss: 0.0309 - accuracy: 0.9933 - val_loss: 0.1046 - val_accuracy: 0.9697\n",
            "Epoch 90/100\n",
            "750/750 [==============================] - 3s 4ms/step - loss: 0.0306 - accuracy: 0.9932 - val_loss: 0.1067 - val_accuracy: 0.9689\n",
            "Epoch 91/100\n",
            "750/750 [==============================] - 2s 3ms/step - loss: 0.0298 - accuracy: 0.9937 - val_loss: 0.1036 - val_accuracy: 0.9689\n",
            "Epoch 92/100\n",
            "750/750 [==============================] - 2s 3ms/step - loss: 0.0294 - accuracy: 0.9936 - val_loss: 0.1057 - val_accuracy: 0.9694\n",
            "Epoch 93/100\n",
            "750/750 [==============================] - 2s 3ms/step - loss: 0.0290 - accuracy: 0.9939 - val_loss: 0.1047 - val_accuracy: 0.9682\n",
            "Epoch 94/100\n",
            "750/750 [==============================] - 2s 3ms/step - loss: 0.0284 - accuracy: 0.9940 - val_loss: 0.1055 - val_accuracy: 0.9696\n",
            "Epoch 95/100\n",
            "750/750 [==============================] - 2s 3ms/step - loss: 0.0279 - accuracy: 0.9942 - val_loss: 0.1068 - val_accuracy: 0.9692\n",
            "Epoch 96/100\n",
            "750/750 [==============================] - 3s 3ms/step - loss: 0.0275 - accuracy: 0.9943 - val_loss: 0.1052 - val_accuracy: 0.9692\n",
            "Epoch 97/100\n",
            "750/750 [==============================] - 3s 4ms/step - loss: 0.0269 - accuracy: 0.9945 - val_loss: 0.1059 - val_accuracy: 0.9699\n",
            "Epoch 98/100\n",
            "750/750 [==============================] - 2s 3ms/step - loss: 0.0263 - accuracy: 0.9948 - val_loss: 0.1051 - val_accuracy: 0.9703\n",
            "Epoch 99/100\n",
            "750/750 [==============================] - 2s 3ms/step - loss: 0.0259 - accuracy: 0.9946 - val_loss: 0.1050 - val_accuracy: 0.9697\n",
            "Epoch 100/100\n",
            "750/750 [==============================] - 2s 3ms/step - loss: 0.0256 - accuracy: 0.9946 - val_loss: 0.1055 - val_accuracy: 0.9704\n"
          ]
        }
      ]
    },
    {
      "cell_type": "code",
      "source": [
        "import matplotlib.pyplot as plt\n",
        "%matplotlib inline\n",
        "# list all data in training\n",
        "print(training.history.keys())\n",
        "# summarize training for accuracy\n",
        "plt.plot(training.history['accuracy'])\n",
        "plt.plot(training.history['val_accuracy'])\n",
        "plt.title('model accuracy')\n",
        "plt.ylabel('accuracy')\n",
        "plt.xlabel('epoch')\n",
        "plt.legend(['train', 'test'], loc='upper left')\n",
        "plt.show()\n",
        "# summarize traning for loss\n",
        "plt.plot(training.history['loss'])\n",
        "plt.plot(training.history['val_loss'])\n",
        "plt.title('model loss')\n",
        "plt.ylabel('loss')\n",
        "plt.xlabel('epoch')\n",
        "plt.legend(['train', 'test'], loc='upper left')\n",
        "plt.show()"
      ],
      "metadata": {
        "colab": {
          "base_uri": "https://localhost:8080/",
          "height": 944
        },
        "id": "d0gvQcIfxCC9",
        "outputId": "a47f2d46-0318-4f44-9d9a-06dab35a01f0"
      },
      "execution_count": null,
      "outputs": [
        {
          "output_type": "stream",
          "name": "stdout",
          "text": [
            "dict_keys(['loss', 'accuracy', 'val_loss', 'val_accuracy'])\n"
          ]
        },
        {
          "output_type": "display_data",
          "data": {
            "text/plain": [
              "<Figure size 640x480 with 1 Axes>"
            ],
            "image/png": "[encoded data removed]"
          },
          "metadata": {}
        },
        {
          "output_type": "display_data",
          "data": {
            "text/plain": [
              "<Figure size 640x480 with 1 Axes>"
            ],
            "image/png": "[encoded data removed]"
          },
          "metadata": {}
        }
      ]
    },
    {
      "cell_type": "code",
      "source": [
        "#evaluate the model\n",
        "test_loss, test_acc = model_1.evaluate(X_test, Y_test)\n",
        "print('Test accuracy:', test_acc)"
      ],
      "metadata": {
        "colab": {
          "base_uri": "https://localhost:8080/"
        },
        "id": "UeE4F7J8xShm",
        "outputId": "626cb74b-e3f2-4418-bd07-9cfc1045008d"
      },
      "execution_count": null,
      "outputs": [
        {
          "output_type": "stream",
          "name": "stdout",
          "text": [
            "313/313 [==============================] - 1s 2ms/step - loss: 0.0944 - accuracy: 0.9740\n",
            "Test accuracy: 0.9739999771118164\n"
          ]
        }
      ]
    },
    {
      "cell_type": "code",
      "source": [
        "model_1.summary()"
      ],
      "metadata": {
        "colab": {
          "base_uri": "https://localhost:8080/"
        },
        "id": "nGwhvgxGxXNc",
        "outputId": "95c52225-96f0-4367-b078-403b6a4a1efb"
      },
      "execution_count": null,
      "outputs": [
        {
          "output_type": "stream",
          "name": "stdout",
          "text": [
            "Model: \"sequential_1\"\n",
            "_________________________________________________________________\n",
            " Layer (type)                Output Shape              Param #   \n",
            "=================================================================\n",
            " dense_layer_1 (Dense)       (None, 64)                50240     \n",
            "                                                                 \n",
            " dense_layer_2 (Dense)       (None, 64)                4160      \n",
            "                                                                 \n",
            " dense_layer_3 (Dense)       (None, 10)                650       \n",
            "                                                                 \n",
            "=================================================================\n",
            "Total params: 55050 (215.04 KB)\n",
            "Trainable params: 55050 (215.04 KB)\n",
            "Non-trainable params: 0 (0.00 Byte)\n",
            "_________________________________________________________________\n"
          ]
        }
      ]
    },
    {
      "cell_type": "code",
      "source": [
        "model_1.weights"
      ],
      "metadata": {
        "colab": {
          "base_uri": "https://localhost:8080/"
        },
        "id": "iSZK6ernxrPJ",
        "outputId": "4b6ab436-b43e-483f-86ad-6ef731d3c3b6"
      },
      "execution_count": null,
      "outputs": [
        {
          "output_type": "execute_result",
          "data": {
            "text/plain": [
              "[<tf.Variable 'dense_layer_1/kernel:0' shape=(784, 64) dtype=float32, numpy=\n",
              " array([[-0.03282696, -0.07519025,  0.02915477, ..., -0.02098993,\n",
              "          0.0193692 , -0.07443894],\n",
              "        [ 0.00034968, -0.06163039,  0.00508298, ..., -0.06066596,\n",
              "          0.07278191,  0.0692255 ],\n",
              "        [-0.07396151,  0.02642138,  0.00622191, ...,  0.0026197 ,\n",
              "          0.04251083, -0.00455151],\n",
              "        ...,\n",
              "        [-0.04073337,  0.06872659, -0.06992362, ..., -0.02504661,\n",
              "         -0.01193682,  0.04941874],\n",
              "        [-0.00693071,  0.0414407 ,  0.01614504, ...,  0.00970834,\n",
              "         -0.0580878 , -0.08210169],\n",
              "        [-0.0169076 , -0.0086349 ,  0.02618039, ..., -0.05644733,\n",
              "         -0.01393137, -0.02657123]], dtype=float32)>,\n",
              " <tf.Variable 'dense_layer_1/bias:0' shape=(64,) dtype=float32, numpy=\n",
              " array([-0.06647196,  0.06394623, -0.05442349, -0.17613983, -0.03739068,\n",
              "         0.07178256,  0.14266482,  0.05769858, -0.07775465, -0.08220311,\n",
              "         0.01118766, -0.00116601,  0.20468043,  0.09636076,  0.18829653,\n",
              "        -0.02300042,  0.07610963, -0.04308979,  0.12121747,  0.00356312,\n",
              "        -0.02637026, -0.07637849,  0.11914002, -0.05317059, -0.00928461,\n",
              "         0.03150418,  0.14343633,  0.08667938,  0.07136348, -0.05767955,\n",
              "        -0.06440761,  0.02902355, -0.09166744,  0.00395574, -0.048033  ,\n",
              "         0.17689902,  0.02366963,  0.08645711,  0.14544843,  0.21134205,\n",
              "         0.0978635 , -0.06352489,  0.18330924, -0.04086398, -0.00139758,\n",
              "        -0.01758442, -0.09497952,  0.01509381,  0.05455901,  0.09076899,\n",
              "         0.0993203 ,  0.07192735, -0.1461049 , -0.05144629, -0.08731046,\n",
              "        -0.0080453 , -0.0032318 , -0.10338456,  0.22025372, -0.02956064,\n",
              "        -0.08582832,  0.0686557 ,  0.04959979, -0.02298657], dtype=float32)>,\n",
              " <tf.Variable 'dense_layer_2/kernel:0' shape=(64, 64) dtype=float32, numpy=\n",
              " array([[-6.4445153e-02, -9.1527022e-02, -2.2691496e-01, ...,\n",
              "          3.5887104e-01, -1.9851746e-01, -5.5546749e-02],\n",
              "        [ 3.7147737e-01,  3.5452002e-04,  2.1090533e-01, ...,\n",
              "          3.4983286e-01,  1.6157728e-01,  9.8081708e-02],\n",
              "        [ 1.0823328e-01,  1.3510142e-01, -6.7855045e-02, ...,\n",
              "          4.2937495e-02,  2.2939067e-01,  2.1783173e-01],\n",
              "        ...,\n",
              "        [-9.1393352e-02,  2.2623701e-01, -2.7733964e-01, ...,\n",
              "          2.5589848e-01,  4.7887634e-02, -1.6202746e-01],\n",
              "        [ 2.2752687e-02, -2.0353349e-01,  9.7232632e-02, ...,\n",
              "          1.7294751e-01,  1.3816540e-01,  7.1605477e-03],\n",
              "        [-2.0730259e-01,  2.3305650e-01,  2.0630978e-02, ...,\n",
              "         -2.1065623e-01,  2.0341342e-02,  2.4778628e-01]], dtype=float32)>,\n",
              " <tf.Variable 'dense_layer_2/bias:0' shape=(64,) dtype=float32, numpy=\n",
              " array([ 0.06340376,  0.04972473, -0.00575351,  0.04021795,  0.01772364,\n",
              "         0.08596201,  0.04394534, -0.0095024 , -0.01072511,  0.04383028,\n",
              "        -0.00211495,  0.09779757,  0.03171848,  0.08671145,  0.03537533,\n",
              "        -0.03939324,  0.02263506,  0.08349167,  0.01223439, -0.01016275,\n",
              "        -0.00266832, -0.05376843, -0.00849235,  0.10758899, -0.05770313,\n",
              "         0.00462788,  0.08058445,  0.02620953,  0.09267705,  0.06732149,\n",
              "         0.00782044,  0.04471979, -0.04335967,  0.00371702, -0.00489968,\n",
              "         0.10747079,  0.04034877,  0.00786176,  0.03310392, -0.0411783 ,\n",
              "         0.05805785,  0.00482965,  0.06802776, -0.00884589, -0.00778708,\n",
              "         0.02862282,  0.04694802, -0.00048565,  0.08749069, -0.01953489,\n",
              "         0.10834921,  0.10148941,  0.00435878,  0.00680789, -0.03010539,\n",
              "         0.06946423, -0.07417236,  0.04494852,  0.11890926,  0.07371044,\n",
              "        -0.01993244,  0.0053513 ,  0.0297202 , -0.00685234], dtype=float32)>,\n",
              " <tf.Variable 'dense_layer_3/kernel:0' shape=(64, 10) dtype=float32, numpy=\n",
              " array([[ 6.24611862e-02, -4.86217767e-01,  3.92299473e-01,\n",
              "         -3.74289483e-01, -4.51705396e-01,  2.92172641e-01,\n",
              "          1.43960774e-01, -1.69165567e-01,  1.19899295e-01,\n",
              "          4.81195629e-01],\n",
              "        [ 4.53858465e-01,  1.64940320e-02, -5.21906197e-01,\n",
              "         -4.27732259e-01, -5.85969351e-02,  1.92197785e-01,\n",
              "          5.42832389e-02, -1.87675394e-02, -1.10140987e-01,\n",
              "         -4.16726112e-01],\n",
              "        [-2.96096932e-02,  2.69331366e-01, -4.55937535e-01,\n",
              "          3.19288194e-01, -6.75497651e-01,  3.51360917e-01,\n",
              "          4.01007265e-01, -4.83707875e-01, -2.70618021e-01,\n",
              "          5.16123414e-01],\n",
              "        [ 3.68357390e-01, -5.78862876e-02, -3.67933393e-01,\n",
              "         -2.32360408e-01,  1.42933905e-01,  2.98965871e-01,\n",
              "          1.57508358e-01,  2.54456878e-01, -3.93035114e-01,\n",
              "         -5.57194829e-01],\n",
              "        [-1.23567067e-01, -1.10794932e-01, -2.29580045e-01,\n",
              "          2.23450497e-01, -2.78761357e-01,  2.57318109e-01,\n",
              "         -2.49090910e-01,  3.14895034e-01,  3.84207338e-01,\n",
              "         -1.29089579e-01],\n",
              "        [ 5.53844512e-01, -5.18640995e-01, -7.01498939e-03,\n",
              "         -3.42496365e-01,  8.04101229e-02, -3.13687563e-01,\n",
              "         -3.58599871e-01, -6.76453948e-01,  1.63943708e-01,\n",
              "          6.77407444e-01],\n",
              "        [-1.17421210e-01,  1.12375900e-01, -2.50125587e-01,\n",
              "          4.26486403e-01, -5.49479723e-01,  8.11401665e-01,\n",
              "          4.50550392e-02, -5.20677269e-01, -1.43241271e-01,\n",
              "          1.96962431e-01],\n",
              "        [ 1.27323925e-01, -4.67246652e-01,  4.44072276e-01,\n",
              "          5.98499358e-01, -5.48252344e-01, -5.74466228e-01,\n",
              "          1.03845887e-01, -4.36033875e-01, -3.20703685e-01,\n",
              "          5.37092268e-01],\n",
              "        [ 7.64488848e-03, -6.80325106e-02, -1.94177270e-01,\n",
              "          4.09641713e-01,  3.43843959e-02, -4.92935866e-01,\n",
              "          2.29239941e-01,  1.89872179e-02,  8.72917920e-02,\n",
              "         -1.16441019e-01],\n",
              "        [-1.66018218e-01, -9.11176801e-02,  3.12005132e-01,\n",
              "         -3.22757125e-01,  1.16411127e-01,  3.26477855e-01,\n",
              "         -3.02786410e-01, -1.88307479e-01, -2.55043864e-01,\n",
              "          1.00053683e-01],\n",
              "        [ 2.04771727e-01, -2.22030059e-01, -1.14639416e-01,\n",
              "         -1.78343728e-01,  4.40595970e-02,  5.35837650e-01,\n",
              "          5.48723340e-01, -2.76798904e-01, -2.56909817e-01,\n",
              "         -2.53858957e-02],\n",
              "        [-3.70481879e-01,  2.87219137e-01, -3.26550245e-01,\n",
              "         -4.71739501e-01,  7.15451837e-01, -4.93884422e-02,\n",
              "         -2.96741456e-01, -2.43759707e-01,  1.74499840e-01,\n",
              "          1.75754771e-01],\n",
              "        [-3.19864377e-02,  5.57187080e-01, -7.02423513e-01,\n",
              "          3.09308052e-01, -1.55178845e-01, -4.29452732e-02,\n",
              "          2.86195397e-01,  2.58103102e-01, -1.84587315e-01,\n",
              "          1.40971646e-01],\n",
              "        [-8.86954740e-02, -3.35966855e-01,  8.26248169e-01,\n",
              "          1.65964723e-01, -2.00347543e-01, -5.19284010e-01,\n",
              "          2.88457107e-02, -2.99816221e-01,  4.52782661e-01,\n",
              "         -5.45261383e-01],\n",
              "        [ 4.77102995e-02, -2.03201577e-01,  2.50397086e-01,\n",
              "          4.80698347e-01,  3.45087387e-02, -6.18884683e-01,\n",
              "         -2.87747737e-02, -1.74421474e-01,  2.57376879e-01,\n",
              "         -5.19089162e-01],\n",
              "        [ 6.19823098e-01,  3.76267824e-03, -4.35039014e-01,\n",
              "          4.97479111e-01,  2.32382074e-01, -3.18578422e-01,\n",
              "          3.81503552e-02,  4.86376345e-01, -6.20034516e-01,\n",
              "         -2.55323112e-01],\n",
              "        [ 1.24899805e-01, -1.67977631e-01,  6.45788237e-02,\n",
              "          2.91098624e-01,  1.71977669e-01,  2.30202422e-01,\n",
              "         -6.05775462e-03, -2.44855061e-01,  1.07396506e-01,\n",
              "          1.33847594e-01],\n",
              "        [-4.36827540e-01, -9.86192934e-03, -1.03264384e-01,\n",
              "         -7.22839713e-01,  6.01987422e-01,  4.89225656e-01,\n",
              "          5.84552646e-01, -4.11593169e-01,  4.00927365e-02,\n",
              "         -3.95861238e-01],\n",
              "        [ 2.72739232e-01, -4.82430369e-01, -2.72679090e-01,\n",
              "          3.01191330e-01,  3.72990966e-01, -3.21361959e-01,\n",
              "         -7.18503952e-01,  6.81467712e-01, -2.47684434e-01,\n",
              "         -3.60875428e-02],\n",
              "        [-4.21561243e-04,  2.64226884e-01,  9.60344225e-02,\n",
              "          2.34242648e-01,  1.49788514e-01,  1.20402966e-02,\n",
              "         -3.40380594e-02,  7.99961761e-02,  2.34950766e-01,\n",
              "          2.79418081e-01],\n",
              "        [-3.13095242e-01,  3.20563346e-01,  2.61159062e-01,\n",
              "          4.33412075e-01, -7.29576051e-01, -2.75760561e-01,\n",
              "         -6.24760747e-01,  6.00007594e-01,  2.66382694e-01,\n",
              "          3.93290699e-01],\n",
              "        [ 5.82178712e-01,  4.19203877e-01,  4.44049269e-01,\n",
              "          1.45902723e-01, -3.09295356e-01, -2.06810348e-02,\n",
              "          2.95774162e-01,  3.91510844e-01, -5.58719635e-01,\n",
              "         -6.36412680e-01],\n",
              "        [-2.04187289e-01, -1.94813967e-01,  2.22030461e-01,\n",
              "          5.88617399e-02, -1.39036149e-01,  2.72281229e-01,\n",
              "         -1.47512695e-02,  3.15075479e-02,  2.09802210e-01,\n",
              "          9.75440219e-02],\n",
              "        [-9.78065431e-02, -4.38143522e-01,  1.74470991e-01,\n",
              "          1.24311045e-01,  5.67940295e-01, -3.95708144e-01,\n",
              "         -2.14936808e-01,  4.08160001e-01, -7.27122486e-01,\n",
              "          5.74489295e-01],\n",
              "        [ 2.41088420e-02,  1.94336586e-02, -1.18401952e-01,\n",
              "         -1.49951011e-01,  2.43200541e-01, -5.51506758e-01,\n",
              "          4.89308625e-01, -7.89758563e-02, -3.89609963e-01,\n",
              "          5.76866269e-01],\n",
              "        [ 4.08759117e-02,  5.13317389e-03, -3.22833866e-01,\n",
              "         -8.28873098e-01,  4.08301175e-01, -7.94302940e-01,\n",
              "          5.89621842e-01,  2.81279348e-02, -2.98618883e-01,\n",
              "          5.28510064e-02],\n",
              "        [-5.58774114e-01, -5.13964832e-01, -2.22712725e-01,\n",
              "          8.05102587e-01,  1.58128098e-01,  3.13444257e-01,\n",
              "         -3.52756768e-01, -6.75246537e-01,  4.39454108e-01,\n",
              "          1.29979983e-01],\n",
              "        [ 1.94243625e-01,  2.39140972e-01,  2.00993210e-01,\n",
              "          1.27619430e-02,  4.05519128e-01,  1.94846451e-01,\n",
              "         -2.55777061e-01,  2.81604767e-01, -1.69635236e-01,\n",
              "          2.02689618e-01],\n",
              "        [-3.26009989e-01, -1.88826695e-01, -5.14545500e-01,\n",
              "          3.93906295e-01, -3.57215732e-01,  6.08472586e-01,\n",
              "         -6.13514543e-01,  9.71755460e-02,  2.05377862e-01,\n",
              "          3.84167612e-01],\n",
              "        [-3.20364773e-01,  2.51171321e-01, -5.86966753e-01,\n",
              "          4.15986627e-01, -3.28976177e-02,  2.69240916e-01,\n",
              "          1.55801058e-01,  1.36964768e-01, -5.75187206e-01,\n",
              "          5.36538124e-01],\n",
              "        [-1.23852953e-01, -8.95863548e-02, -1.54961616e-01,\n",
              "         -4.34576601e-01, -3.25349987e-01,  6.60578132e-01,\n",
              "          2.41542049e-02,  2.70444065e-01,  3.15896481e-01,\n",
              "          3.56047541e-01],\n",
              "        [-2.70374417e-01,  2.38357484e-01,  1.13001533e-01,\n",
              "         -8.82540047e-02, -9.14723396e-01,  8.04346681e-01,\n",
              "          2.63732016e-01,  2.59807289e-01, -1.10881254e-01,\n",
              "          4.93724085e-02],\n",
              "        [-9.61611643e-02,  4.55407649e-02,  1.21800579e-01,\n",
              "         -1.70169383e-01, -2.59592086e-01, -4.45639938e-01,\n",
              "          3.67423266e-01,  3.74510527e-01,  9.34557557e-01,\n",
              "         -9.10977185e-01],\n",
              "        [ 2.28059608e-02, -3.02001774e-01, -3.71049076e-01,\n",
              "         -9.88219306e-02,  3.95713821e-02,  3.36912960e-01,\n",
              "          2.14219227e-01, -1.37253314e-01,  1.86361581e-01,\n",
              "         -1.18716031e-01],\n",
              "        [ 3.38588983e-01, -1.01589583e-01,  4.71464157e-01,\n",
              "          9.19846594e-02, -2.50042081e-01,  3.45027208e-01,\n",
              "         -4.93937284e-01,  5.00958562e-01,  4.67308760e-01,\n",
              "         -8.89430165e-01],\n",
              "        [ 1.08034827e-01,  1.82660162e-01, -4.50344056e-01,\n",
              "         -1.70917355e-03, -5.42013288e-01,  1.47543862e-01,\n",
              "          9.00940225e-02, -6.81294799e-01,  6.51177585e-01,\n",
              "          5.33467174e-01],\n",
              "        [ 2.18885750e-01,  2.38618046e-01,  2.43978471e-01,\n",
              "         -4.96158928e-01,  2.42228881e-01, -1.17950678e-01,\n",
              "         -9.36762765e-02, -1.27517924e-01, -3.22691739e-01,\n",
              "          4.82065290e-01],\n",
              "        [ 3.09081286e-01, -2.11271882e-01,  5.71799636e-01,\n",
              "         -7.59019017e-01, -2.38358870e-01, -5.67120612e-01,\n",
              "         -2.03087568e-01,  2.33430162e-01,  4.76281494e-01,\n",
              "          6.03326976e-01],\n",
              "        [ 2.57291675e-01,  1.04002707e-01,  3.10494453e-01,\n",
              "          1.53991267e-01, -1.18316837e-01,  4.90400285e-01,\n",
              "          1.92370966e-01,  1.13968469e-01, -2.60838628e-01,\n",
              "         -1.52011976e-01],\n",
              "        [ 8.92063677e-02, -1.06728226e-01, -5.31213641e-01,\n",
              "          5.28923810e-01, -3.25372398e-01, -1.00362591e-01,\n",
              "          4.31243688e-01,  3.25428516e-01, -1.34150591e-02,\n",
              "         -6.40713453e-01],\n",
              "        [ 2.83957005e-01, -5.35368860e-01, -1.65597841e-01,\n",
              "          8.06381926e-02, -4.78149593e-01,  6.67717874e-01,\n",
              "          1.56140015e-01,  5.41278064e-01, -3.61494750e-01,\n",
              "          3.57399672e-01],\n",
              "        [-2.76032358e-01, -3.93117666e-01,  7.92637825e-01,\n",
              "         -1.07980771e-02, -3.97831231e-01, -4.44818646e-01,\n",
              "          1.60343215e-01,  2.96219558e-01, -3.09529632e-01,\n",
              "         -1.61891729e-01],\n",
              "        [-6.58658147e-02,  6.53388351e-02,  3.92548531e-01,\n",
              "          6.29065216e-01,  1.73232257e-01, -2.35583961e-01,\n",
              "          2.78513342e-01, -6.01726115e-01,  3.46453279e-01,\n",
              "          1.89802408e-01],\n",
              "        [ 7.71968186e-01, -1.38038024e-01, -7.63963312e-02,\n",
              "          1.69317216e-01,  1.46798464e-02, -6.59906328e-01,\n",
              "         -1.34793505e-01,  1.60265356e-01,  1.09545596e-01,\n",
              "          2.58436024e-01],\n",
              "        [ 2.63466865e-01,  2.66543925e-01, -2.16325801e-02,\n",
              "         -1.58806313e-02, -4.45830226e-02, -3.25157881e-01,\n",
              "         -8.54658484e-02, -3.15385222e-01, -2.11925492e-01,\n",
              "          2.28256360e-02],\n",
              "        [-4.93853569e-01, -3.53471458e-01,  3.05465341e-01,\n",
              "         -2.48289686e-02,  9.79932472e-02,  4.31383431e-01,\n",
              "          2.87781894e-01, -3.32843423e-01,  8.12124610e-01,\n",
              "         -1.71166524e-01],\n",
              "        [ 2.07861185e-01, -7.01549184e-03, -1.52421340e-01,\n",
              "         -1.47152711e-02,  3.28325257e-02,  1.85591191e-01,\n",
              "          1.92443520e-01, -1.27814114e-01,  4.34310377e-01,\n",
              "          1.58609405e-01],\n",
              "        [ 3.27254593e-01, -2.72100568e-01,  3.96234423e-01,\n",
              "         -2.67974705e-01, -3.72191608e-01, -2.72196196e-02,\n",
              "          1.14194453e-01, -1.37965530e-02,  2.12474838e-01,\n",
              "          8.59459639e-02],\n",
              "        [-5.76658785e-01,  2.72007436e-01,  1.92086414e-01,\n",
              "         -6.52597725e-01,  4.49764967e-01,  3.82475019e-01,\n",
              "         -3.40779036e-01,  4.22300518e-01,  1.63339213e-01,\n",
              "         -1.01128772e-01],\n",
              "        [ 1.97957471e-01,  3.00536543e-01,  5.76003373e-01,\n",
              "         -4.14812602e-02,  6.10258460e-01, -3.92487586e-01,\n",
              "         -4.30701040e-02,  1.53311819e-01, -5.88764668e-01,\n",
              "         -5.01177251e-01],\n",
              "        [-2.24819407e-01,  5.17914414e-01, -4.53619003e-01,\n",
              "         -2.39298254e-01,  5.19634426e-01, -3.88157874e-01,\n",
              "          2.80781716e-01, -2.36853689e-01, -2.81714380e-01,\n",
              "          1.46940470e-01],\n",
              "        [ 2.31728792e-01, -1.38760775e-01,  1.19482957e-01,\n",
              "          4.33982015e-01,  3.82334501e-01,  6.62138820e-01,\n",
              "         -1.60024539e-01, -5.65326989e-01, -3.57225031e-01,\n",
              "         -4.52373147e-01],\n",
              "        [ 1.75025254e-01, -1.46368155e-02,  4.62355971e-01,\n",
              "          1.82148904e-01, -1.34108692e-01,  6.70286894e-01,\n",
              "          6.14034981e-02, -1.51737720e-01, -6.06164992e-01,\n",
              "          4.03761029e-01],\n",
              "        [-1.55727297e-01,  1.69621095e-01,  2.64389604e-01,\n",
              "          4.39185873e-02, -2.16028884e-01, -2.28669960e-02,\n",
              "          3.40683572e-02,  2.08418205e-01, -1.18292145e-01,\n",
              "          2.91992247e-01],\n",
              "        [ 1.84919238e-01,  6.06474340e-01,  2.23188534e-01,\n",
              "          3.87171358e-01, -4.41160262e-01, -4.66793329e-01,\n",
              "         -4.62221116e-01,  1.33974791e-01,  8.98266658e-02,\n",
              "         -3.50414366e-01],\n",
              "        [-2.53178537e-01,  7.43914962e-01, -6.50574267e-03,\n",
              "         -3.00435245e-01,  5.17364383e-01, -3.51037495e-02,\n",
              "         -2.84351528e-01,  8.27256292e-02, -6.48665071e-01,\n",
              "          3.38827103e-01],\n",
              "        [-5.27206957e-01,  7.94281483e-01,  6.49383843e-01,\n",
              "          3.16843122e-01,  9.88435373e-03, -9.77739021e-02,\n",
              "         -3.90983224e-01,  7.76236832e-01, -3.27499717e-01,\n",
              "         -1.04509389e+00],\n",
              "        [ 5.85030764e-02,  2.79093742e-01, -3.58706087e-01,\n",
              "          4.45544928e-01, -4.73960787e-01,  5.27539313e-01,\n",
              "         -1.58125952e-01,  3.52907211e-01, -5.58789790e-01,\n",
              "         -2.23441124e-02],\n",
              "        [-1.68314517e-01,  3.66870850e-01, -7.17421114e-01,\n",
              "         -1.69615731e-01,  6.38220549e-01, -3.23739231e-01,\n",
              "         -8.52762103e-01,  5.35305500e-01,  7.38618731e-01,\n",
              "          2.65181452e-01],\n",
              "        [ 2.93890953e-01, -3.85603815e-01, -3.47882062e-02,\n",
              "          3.25265795e-01,  4.28680032e-01,  1.95522280e-03,\n",
              "          1.21106125e-01, -4.01791692e-01,  3.35481077e-01,\n",
              "         -3.26242477e-01],\n",
              "        [ 1.67023510e-01, -4.35478240e-02, -2.29578763e-01,\n",
              "         -2.93460637e-02,  1.34902984e-01, -4.02086079e-02,\n",
              "          2.38829851e-02,  1.17011532e-01, -9.24348235e-02,\n",
              "          1.72945082e-01],\n",
              "        [-5.38285673e-01,  6.72758937e-01,  6.79702640e-01,\n",
              "         -3.40621352e-01,  1.73414275e-01,  6.55214489e-02,\n",
              "          1.32454455e-01, -1.81827173e-02, -1.96590945e-01,\n",
              "         -1.74250618e-01],\n",
              "        [ 1.45380035e-01, -1.32712871e-01,  6.01564705e-01,\n",
              "         -1.10209368e-01,  3.76249552e-01,  1.08013619e-02,\n",
              "         -5.60244858e-01, -1.99745923e-01,  1.13746926e-01,\n",
              "          2.08274335e-01],\n",
              "        [-3.72461855e-01,  2.65272170e-01,  2.62460828e-01,\n",
              "         -5.35643876e-01,  2.13922054e-01, -3.11372459e-01,\n",
              "          1.73123375e-01, -1.50381997e-01,  3.59143972e-01,\n",
              "          1.08625367e-02]], dtype=float32)>,\n",
              " <tf.Variable 'dense_layer_3/bias:0' shape=(10,) dtype=float32, numpy=\n",
              " array([-0.04473075,  0.00926794, -0.07358497, -0.0891195 ,  0.00649403,\n",
              "         0.2017481 , -0.07054727, -0.00730003,  0.02942306,  0.03835029],\n",
              "       dtype=float32)>]"
            ]
          },
          "metadata": {},
          "execution_count": 27
        }
      ]
    },
    {
      "cell_type": "code",
      "source": [
        "model_1.get_config()"
      ],
      "metadata": {
        "colab": {
          "base_uri": "https://localhost:8080/"
        },
        "id": "FTvmmd4_ymbf",
        "outputId": "33bef630-5606-4ce8-b581-feb8c002f534"
      },
      "execution_count": null,
      "outputs": [
        {
          "output_type": "execute_result",
          "data": {
            "text/plain": [
              "{'name': 'sequential_1',\n",
              " 'layers': [{'module': 'keras.layers',\n",
              "   'class_name': 'InputLayer',\n",
              "   'config': {'batch_input_shape': (None, 784),\n",
              "    'dtype': 'float32',\n",
              "    'sparse': False,\n",
              "    'ragged': False,\n",
              "    'name': 'dense_layer_1_input'},\n",
              "   'registered_name': None},\n",
              "  {'module': 'keras.layers',\n",
              "   'class_name': 'Dense',\n",
              "   'config': {'name': 'dense_layer_1',\n",
              "    'trainable': True,\n",
              "    'dtype': 'float32',\n",
              "    'batch_input_shape': (None, 784),\n",
              "    'units': 64,\n",
              "    'activation': 'relu',\n",
              "    'use_bias': True,\n",
              "    'kernel_initializer': {'module': 'keras.initializers',\n",
              "     'class_name': 'GlorotUniform',\n",
              "     'config': {'seed': None},\n",
              "     'registered_name': None},\n",
              "    'bias_initializer': {'module': 'keras.initializers',\n",
              "     'class_name': 'Zeros',\n",
              "     'config': {},\n",
              "     'registered_name': None},\n",
              "    'kernel_regularizer': None,\n",
              "    'bias_regularizer': None,\n",
              "    'activity_regularizer': None,\n",
              "    'kernel_constraint': None,\n",
              "    'bias_constraint': None},\n",
              "   'registered_name': None,\n",
              "   'build_config': {'input_shape': (None, 784)}},\n",
              "  {'module': 'keras.layers',\n",
              "   'class_name': 'Dense',\n",
              "   'config': {'name': 'dense_layer_2',\n",
              "    'trainable': True,\n",
              "    'dtype': 'float32',\n",
              "    'units': 64,\n",
              "    'activation': 'relu',\n",
              "    'use_bias': True,\n",
              "    'kernel_initializer': {'module': 'keras.initializers',\n",
              "     'class_name': 'GlorotUniform',\n",
              "     'config': {'seed': None},\n",
              "     'registered_name': None},\n",
              "    'bias_initializer': {'module': 'keras.initializers',\n",
              "     'class_name': 'Zeros',\n",
              "     'config': {},\n",
              "     'registered_name': None},\n",
              "    'kernel_regularizer': None,\n",
              "    'bias_regularizer': None,\n",
              "    'activity_regularizer': None,\n",
              "    'kernel_constraint': None,\n",
              "    'bias_constraint': None},\n",
              "   'registered_name': None,\n",
              "   'build_config': {'input_shape': (None, 64)}},\n",
              "  {'module': 'keras.layers',\n",
              "   'class_name': 'Dense',\n",
              "   'config': {'name': 'dense_layer_3',\n",
              "    'trainable': True,\n",
              "    'dtype': 'float32',\n",
              "    'units': 10,\n",
              "    'activation': 'softmax',\n",
              "    'use_bias': True,\n",
              "    'kernel_initializer': {'module': 'keras.initializers',\n",
              "     'class_name': 'GlorotUniform',\n",
              "     'config': {'seed': None},\n",
              "     'registered_name': None},\n",
              "    'bias_initializer': {'module': 'keras.initializers',\n",
              "     'class_name': 'Zeros',\n",
              "     'config': {},\n",
              "     'registered_name': None},\n",
              "    'kernel_regularizer': None,\n",
              "    'bias_regularizer': None,\n",
              "    'activity_regularizer': None,\n",
              "    'kernel_constraint': None,\n",
              "    'bias_constraint': None},\n",
              "   'registered_name': None,\n",
              "   'build_config': {'input_shape': (None, 64)}}]}"
            ]
          },
          "metadata": {},
          "execution_count": 28
        }
      ]
    },
    {
      "cell_type": "markdown",
      "source": [
        "Improved Model 2 - Adding dropout to avoid overfitting"
      ],
      "metadata": {
        "id": "6v8HZdDtzHBe"
      }
    },
    {
      "cell_type": "code",
      "source": [
        "from tensorflow.keras.layers import Dropout\n",
        "\n",
        "model_2 = tf.keras.Sequential()\n",
        "N_hidden = 128\n",
        "model_2.add(Dense(N_hidden,name='dense_layer',input_shape=(784,),activation='relu'))\n",
        "model_2.add(Dropout(0.3))\n",
        "model_2.add(Dense(N_hidden,name='dense_layer_2',activation='relu'))\n",
        "model_2.add(Dropout(0.3))\n",
        "model_2.add(Dense(10,name='dense_layer_3',activation='softmax'))\n"
      ],
      "metadata": {
        "id": "q-DFogqQzOTB"
      },
      "execution_count": null,
      "outputs": []
    },
    {
      "cell_type": "code",
      "source": [
        "model_2.compile(optimizer='SGD',loss='categorical_crossentropy',metrics=['accuracy'])"
      ],
      "metadata": {
        "id": "EVTjqQ935B-8"
      },
      "execution_count": null,
      "outputs": []
    },
    {
      "cell_type": "code",
      "source": [
        "training = model_2.fit(X_train,Y_train,batch_size=64,epochs=50,validation_split=0.20)"
      ],
      "metadata": {
        "colab": {
          "base_uri": "https://localhost:8080/"
        },
        "id": "dIAS0Mte5MoB",
        "outputId": "0ff17f9f-73cc-4e1b-ad08-0ac0e3a2051c"
      },
      "execution_count": null,
      "outputs": [
        {
          "output_type": "stream",
          "name": "stdout",
          "text": [
            "Epoch 1/50\n",
            "750/750 [==============================] - 3s 4ms/step - loss: 1.3274 - accuracy: 0.5842 - val_loss: 0.5291 - val_accuracy: 0.8708\n",
            "Epoch 2/50\n",
            "750/750 [==============================] - 3s 4ms/step - loss: 0.6399 - accuracy: 0.8037 - val_loss: 0.3732 - val_accuracy: 0.8974\n",
            "Epoch 3/50\n",
            "750/750 [==============================] - 3s 4ms/step - loss: 0.5115 - accuracy: 0.8457 - val_loss: 0.3179 - val_accuracy: 0.9101\n",
            "Epoch 4/50\n",
            "750/750 [==============================] - 4s 5ms/step - loss: 0.4446 - accuracy: 0.8673 - val_loss: 0.2834 - val_accuracy: 0.9168\n",
            "Epoch 5/50\n",
            "750/750 [==============================] - 3s 4ms/step - loss: 0.4037 - accuracy: 0.8812 - val_loss: 0.2616 - val_accuracy: 0.9237\n",
            "Epoch 6/50\n",
            "750/750 [==============================] - 3s 4ms/step - loss: 0.3708 - accuracy: 0.8915 - val_loss: 0.2402 - val_accuracy: 0.9312\n",
            "Epoch 7/50\n",
            "750/750 [==============================] - 3s 4ms/step - loss: 0.3455 - accuracy: 0.8970 - val_loss: 0.2264 - val_accuracy: 0.9348\n",
            "Epoch 8/50\n",
            "750/750 [==============================] - 4s 5ms/step - loss: 0.3281 - accuracy: 0.9039 - val_loss: 0.2144 - val_accuracy: 0.9371\n",
            "Epoch 9/50\n",
            "750/750 [==============================] - 3s 4ms/step - loss: 0.3059 - accuracy: 0.9097 - val_loss: 0.2031 - val_accuracy: 0.9416\n",
            "Epoch 10/50\n",
            "750/750 [==============================] - 3s 4ms/step - loss: 0.2934 - accuracy: 0.9133 - val_loss: 0.1937 - val_accuracy: 0.9454\n",
            "Epoch 11/50\n",
            "750/750 [==============================] - 3s 4ms/step - loss: 0.2812 - accuracy: 0.9185 - val_loss: 0.1858 - val_accuracy: 0.9464\n",
            "Epoch 12/50\n",
            "750/750 [==============================] - 3s 5ms/step - loss: 0.2706 - accuracy: 0.9209 - val_loss: 0.1798 - val_accuracy: 0.9488\n",
            "Epoch 13/50\n",
            "750/750 [==============================] - 3s 5ms/step - loss: 0.2530 - accuracy: 0.9258 - val_loss: 0.1740 - val_accuracy: 0.9499\n",
            "Epoch 14/50\n",
            "750/750 [==============================] - 3s 4ms/step - loss: 0.2479 - accuracy: 0.9273 - val_loss: 0.1668 - val_accuracy: 0.9528\n",
            "Epoch 15/50\n",
            "750/750 [==============================] - 3s 4ms/step - loss: 0.2440 - accuracy: 0.9299 - val_loss: 0.1624 - val_accuracy: 0.9533\n",
            "Epoch 16/50\n",
            "750/750 [==============================] - 3s 5ms/step - loss: 0.2333 - accuracy: 0.9320 - val_loss: 0.1556 - val_accuracy: 0.9546\n",
            "Epoch 17/50\n",
            "750/750 [==============================] - 3s 4ms/step - loss: 0.2272 - accuracy: 0.9332 - val_loss: 0.1518 - val_accuracy: 0.9559\n",
            "Epoch 18/50\n",
            "750/750 [==============================] - 3s 4ms/step - loss: 0.2170 - accuracy: 0.9357 - val_loss: 0.1481 - val_accuracy: 0.9572\n",
            "Epoch 19/50\n",
            "750/750 [==============================] - 3s 4ms/step - loss: 0.2135 - accuracy: 0.9376 - val_loss: 0.1448 - val_accuracy: 0.9580\n",
            "Epoch 20/50\n",
            "750/750 [==============================] - 3s 4ms/step - loss: 0.2053 - accuracy: 0.9396 - val_loss: 0.1407 - val_accuracy: 0.9582\n",
            "Epoch 21/50\n",
            "750/750 [==============================] - 4s 5ms/step - loss: 0.2000 - accuracy: 0.9418 - val_loss: 0.1375 - val_accuracy: 0.9597\n",
            "Epoch 22/50\n",
            "750/750 [==============================] - 3s 4ms/step - loss: 0.1952 - accuracy: 0.9425 - val_loss: 0.1346 - val_accuracy: 0.9609\n",
            "Epoch 23/50\n",
            "750/750 [==============================] - 3s 4ms/step - loss: 0.1901 - accuracy: 0.9438 - val_loss: 0.1310 - val_accuracy: 0.9621\n",
            "Epoch 24/50\n",
            "750/750 [==============================] - 3s 4ms/step - loss: 0.1844 - accuracy: 0.9452 - val_loss: 0.1280 - val_accuracy: 0.9629\n",
            "Epoch 25/50\n",
            "750/750 [==============================] - 3s 4ms/step - loss: 0.1826 - accuracy: 0.9455 - val_loss: 0.1253 - val_accuracy: 0.9637\n",
            "Epoch 26/50\n",
            "750/750 [==============================] - 3s 4ms/step - loss: 0.1808 - accuracy: 0.9470 - val_loss: 0.1237 - val_accuracy: 0.9647\n",
            "Epoch 27/50\n",
            "750/750 [==============================] - 3s 4ms/step - loss: 0.1750 - accuracy: 0.9488 - val_loss: 0.1217 - val_accuracy: 0.9645\n",
            "Epoch 28/50\n",
            "750/750 [==============================] - 3s 5ms/step - loss: 0.1705 - accuracy: 0.9491 - val_loss: 0.1185 - val_accuracy: 0.9657\n",
            "Epoch 29/50\n",
            "750/750 [==============================] - 3s 4ms/step - loss: 0.1658 - accuracy: 0.9515 - val_loss: 0.1158 - val_accuracy: 0.9660\n",
            "Epoch 30/50\n",
            "750/750 [==============================] - 4s 5ms/step - loss: 0.1655 - accuracy: 0.9512 - val_loss: 0.1149 - val_accuracy: 0.9668\n",
            "Epoch 31/50\n",
            "750/750 [==============================] - 3s 4ms/step - loss: 0.1595 - accuracy: 0.9536 - val_loss: 0.1145 - val_accuracy: 0.9667\n",
            "Epoch 32/50\n",
            "750/750 [==============================] - 3s 4ms/step - loss: 0.1606 - accuracy: 0.9524 - val_loss: 0.1123 - val_accuracy: 0.9675\n",
            "Epoch 33/50\n",
            "750/750 [==============================] - 4s 5ms/step - loss: 0.1548 - accuracy: 0.9538 - val_loss: 0.1109 - val_accuracy: 0.9678\n",
            "Epoch 34/50\n",
            "750/750 [==============================] - 4s 5ms/step - loss: 0.1535 - accuracy: 0.9546 - val_loss: 0.1085 - val_accuracy: 0.9682\n",
            "Epoch 35/50\n",
            "750/750 [==============================] - 3s 4ms/step - loss: 0.1496 - accuracy: 0.9564 - val_loss: 0.1083 - val_accuracy: 0.9689\n",
            "Epoch 36/50\n",
            "750/750 [==============================] - 3s 4ms/step - loss: 0.1463 - accuracy: 0.9566 - val_loss: 0.1059 - val_accuracy: 0.9693\n",
            "Epoch 37/50\n",
            "750/750 [==============================] - 3s 4ms/step - loss: 0.1452 - accuracy: 0.9569 - val_loss: 0.1054 - val_accuracy: 0.9693\n",
            "Epoch 38/50\n",
            "750/750 [==============================] - 4s 5ms/step - loss: 0.1444 - accuracy: 0.9577 - val_loss: 0.1041 - val_accuracy: 0.9692\n",
            "Epoch 39/50\n",
            "750/750 [==============================] - 3s 4ms/step - loss: 0.1408 - accuracy: 0.9581 - val_loss: 0.1028 - val_accuracy: 0.9704\n",
            "Epoch 40/50\n",
            "750/750 [==============================] - 3s 4ms/step - loss: 0.1405 - accuracy: 0.9585 - val_loss: 0.1024 - val_accuracy: 0.9687\n",
            "Epoch 41/50\n",
            "750/750 [==============================] - 3s 4ms/step - loss: 0.1378 - accuracy: 0.9585 - val_loss: 0.1021 - val_accuracy: 0.9702\n",
            "Epoch 42/50\n",
            "750/750 [==============================] - 4s 5ms/step - loss: 0.1333 - accuracy: 0.9606 - val_loss: 0.0994 - val_accuracy: 0.9708\n",
            "Epoch 43/50\n",
            "750/750 [==============================] - 3s 4ms/step - loss: 0.1301 - accuracy: 0.9602 - val_loss: 0.0993 - val_accuracy: 0.9699\n",
            "Epoch 44/50\n",
            "750/750 [==============================] - 3s 4ms/step - loss: 0.1300 - accuracy: 0.9609 - val_loss: 0.0987 - val_accuracy: 0.9707\n",
            "Epoch 45/50\n",
            "750/750 [==============================] - 3s 4ms/step - loss: 0.1298 - accuracy: 0.9607 - val_loss: 0.0983 - val_accuracy: 0.9711\n",
            "Epoch 46/50\n",
            "750/750 [==============================] - 4s 5ms/step - loss: 0.1282 - accuracy: 0.9609 - val_loss: 0.0968 - val_accuracy: 0.9722\n",
            "Epoch 47/50\n",
            "750/750 [==============================] - 3s 4ms/step - loss: 0.1266 - accuracy: 0.9618 - val_loss: 0.0965 - val_accuracy: 0.9710\n",
            "Epoch 48/50\n",
            "750/750 [==============================] - 3s 4ms/step - loss: 0.1263 - accuracy: 0.9614 - val_loss: 0.0955 - val_accuracy: 0.9718\n",
            "Epoch 49/50\n",
            "750/750 [==============================] - 3s 4ms/step - loss: 0.1217 - accuracy: 0.9634 - val_loss: 0.0953 - val_accuracy: 0.9725\n",
            "Epoch 50/50\n",
            "750/750 [==============================] - 3s 5ms/step - loss: 0.1238 - accuracy: 0.9629 - val_loss: 0.0944 - val_accuracy: 0.9728\n"
          ]
        }
      ]
    },
    {
      "cell_type": "code",
      "source": [
        "import matplotlib.pyplot as plt\n",
        "%matplotlib inline\n",
        "# list all data in training\n",
        "print(training.history.keys())\n",
        "# summarize training for accuracy\n",
        "plt.plot(training.history['accuracy'])\n",
        "plt.plot(training.history['val_accuracy'])\n",
        "plt.title('model accuracy')\n",
        "plt.ylabel('accuracy')\n",
        "plt.xlabel('epoch')\n",
        "plt.legend(['train', 'test'], loc='upper left')\n",
        "plt.show()\n",
        "# summarize traning for loss\n",
        "plt.plot(training.history['loss'])\n",
        "plt.plot(training.history['val_loss'])\n",
        "plt.title('model loss')\n",
        "plt.ylabel('loss')\n",
        "plt.xlabel('epoch')\n",
        "plt.legend(['train', 'test'], loc='upper left')\n",
        "plt.show()"
      ],
      "metadata": {
        "colab": {
          "base_uri": "https://localhost:8080/",
          "height": 944
        },
        "id": "r653Hdyh6b_V",
        "outputId": "a002e665-c7b8-4c46-d58d-a554ebbf3209"
      },
      "execution_count": null,
      "outputs": [
        {
          "output_type": "stream",
          "name": "stdout",
          "text": [
            "dict_keys(['loss', 'accuracy', 'val_loss', 'val_accuracy'])\n"
          ]
        },
        {
          "output_type": "display_data",
          "data": {
            "text/plain": [
              "<Figure size 640x480 with 1 Axes>"
            ],
            "image/png": "[encoded data removed]"
          },
          "metadata": {}
        },
        {
          "output_type": "display_data",
          "data": {
            "text/plain": [
              "<Figure size 640x480 with 1 Axes>"
            ],
            "image/png": "[encoded data removed]"
          },
          "metadata": {}
        }
      ]
    },
    {
      "cell_type": "code",
      "source": [
        "test_loss,test_acc = model_2.evaluate(X_test,Y_test)\n",
        "print('Test accuracy:', test_acc)"
      ],
      "metadata": {
        "colab": {
          "base_uri": "https://localhost:8080/"
        },
        "id": "tKUlVMji6lKZ",
        "outputId": "596a4192-3429-4775-9269-8805397c3c1e"
      },
      "execution_count": null,
      "outputs": [
        {
          "output_type": "stream",
          "name": "stdout",
          "text": [
            "313/313 [==============================] - 1s 3ms/step - loss: 0.0897 - accuracy: 0.9727\n",
            "Test accuracy: 0.9726999998092651\n"
          ]
        }
      ]
    },
    {
      "cell_type": "code",
      "source": [
        "model_2.summary()"
      ],
      "metadata": {
        "colab": {
          "base_uri": "https://localhost:8080/"
        },
        "id": "pwjPMZVk62O0",
        "outputId": "869f7899-2554-4c63-f161-2d383983dd6a"
      },
      "execution_count": null,
      "outputs": [
        {
          "output_type": "stream",
          "name": "stdout",
          "text": [
            "Model: \"sequential_2\"\n",
            "_________________________________________________________________\n",
            " Layer (type)                Output Shape              Param #   \n",
            "=================================================================\n",
            " dense_layer (Dense)         (None, 128)               100480    \n",
            "                                                                 \n",
            " dropout (Dropout)           (None, 128)               0         \n",
            "                                                                 \n",
            " dense_layer_2 (Dense)       (None, 128)               16512     \n",
            "                                                                 \n",
            " dropout_1 (Dropout)         (None, 128)               0         \n",
            "                                                                 \n",
            " dense_layer_3 (Dense)       (None, 10)                1290      \n",
            "                                                                 \n",
            "=================================================================\n",
            "Total params: 118282 (462.04 KB)\n",
            "Trainable params: 118282 (462.04 KB)\n",
            "Non-trainable params: 0 (0.00 Byte)\n",
            "_________________________________________________________________\n"
          ]
        }
      ]
    },
    {
      "cell_type": "code",
      "source": [
        "model_2.get_config()"
      ],
      "metadata": {
        "colab": {
          "base_uri": "https://localhost:8080/"
        },
        "id": "PunteG7g6-nv",
        "outputId": "506ba59d-a665-4b0d-9e1e-3e4f73ff92fb"
      },
      "execution_count": null,
      "outputs": [
        {
          "output_type": "execute_result",
          "data": {
            "text/plain": [
              "{'name': 'sequential_2',\n",
              " 'layers': [{'module': 'keras.layers',\n",
              "   'class_name': 'InputLayer',\n",
              "   'config': {'batch_input_shape': (None, 784),\n",
              "    'dtype': 'float32',\n",
              "    'sparse': False,\n",
              "    'ragged': False,\n",
              "    'name': 'dense_layer_input'},\n",
              "   'registered_name': None},\n",
              "  {'module': 'keras.layers',\n",
              "   'class_name': 'Dense',\n",
              "   'config': {'name': 'dense_layer',\n",
              "    'trainable': True,\n",
              "    'dtype': 'float32',\n",
              "    'batch_input_shape': (None, 784),\n",
              "    'units': 128,\n",
              "    'activation': 'relu',\n",
              "    'use_bias': True,\n",
              "    'kernel_initializer': {'module': 'keras.initializers',\n",
              "     'class_name': 'GlorotUniform',\n",
              "     'config': {'seed': None},\n",
              "     'registered_name': None},\n",
              "    'bias_initializer': {'module': 'keras.initializers',\n",
              "     'class_name': 'Zeros',\n",
              "     'config': {},\n",
              "     'registered_name': None},\n",
              "    'kernel_regularizer': None,\n",
              "    'bias_regularizer': None,\n",
              "    'activity_regularizer': None,\n",
              "    'kernel_constraint': None,\n",
              "    'bias_constraint': None},\n",
              "   'registered_name': None,\n",
              "   'build_config': {'input_shape': (None, 784)}},\n",
              "  {'module': 'keras.layers',\n",
              "   'class_name': 'Dropout',\n",
              "   'config': {'name': 'dropout',\n",
              "    'trainable': True,\n",
              "    'dtype': 'float32',\n",
              "    'rate': 0.3,\n",
              "    'noise_shape': None,\n",
              "    'seed': None},\n",
              "   'registered_name': None,\n",
              "   'build_config': {'input_shape': (None, 128)}},\n",
              "  {'module': 'keras.layers',\n",
              "   'class_name': 'Dense',\n",
              "   'config': {'name': 'dense_layer_2',\n",
              "    'trainable': True,\n",
              "    'dtype': 'float32',\n",
              "    'units': 128,\n",
              "    'activation': 'relu',\n",
              "    'use_bias': True,\n",
              "    'kernel_initializer': {'module': 'keras.initializers',\n",
              "     'class_name': 'GlorotUniform',\n",
              "     'config': {'seed': None},\n",
              "     'registered_name': None},\n",
              "    'bias_initializer': {'module': 'keras.initializers',\n",
              "     'class_name': 'Zeros',\n",
              "     'config': {},\n",
              "     'registered_name': None},\n",
              "    'kernel_regularizer': None,\n",
              "    'bias_regularizer': None,\n",
              "    'activity_regularizer': None,\n",
              "    'kernel_constraint': None,\n",
              "    'bias_constraint': None},\n",
              "   'registered_name': None,\n",
              "   'build_config': {'input_shape': (None, 128)}},\n",
              "  {'module': 'keras.layers',\n",
              "   'class_name': 'Dropout',\n",
              "   'config': {'name': 'dropout_1',\n",
              "    'trainable': True,\n",
              "    'dtype': 'float32',\n",
              "    'rate': 0.3,\n",
              "    'noise_shape': None,\n",
              "    'seed': None},\n",
              "   'registered_name': None,\n",
              "   'build_config': {'input_shape': (None, 128)}},\n",
              "  {'module': 'keras.layers',\n",
              "   'class_name': 'Dense',\n",
              "   'config': {'name': 'dense_layer_3',\n",
              "    'trainable': True,\n",
              "    'dtype': 'float32',\n",
              "    'units': 10,\n",
              "    'activation': 'softmax',\n",
              "    'use_bias': True,\n",
              "    'kernel_initializer': {'module': 'keras.initializers',\n",
              "     'class_name': 'GlorotUniform',\n",
              "     'config': {'seed': None},\n",
              "     'registered_name': None},\n",
              "    'bias_initializer': {'module': 'keras.initializers',\n",
              "     'class_name': 'Zeros',\n",
              "     'config': {},\n",
              "     'registered_name': None},\n",
              "    'kernel_regularizer': None,\n",
              "    'bias_regularizer': None,\n",
              "    'activity_regularizer': None,\n",
              "    'kernel_constraint': None,\n",
              "    'bias_constraint': None},\n",
              "   'registered_name': None,\n",
              "   'build_config': {'input_shape': (None, 128)}}]}"
            ]
          },
          "metadata": {},
          "execution_count": 35
        }
      ]
    },
    {
      "cell_type": "markdown",
      "source": [
        "Improved Model 3: Changing the optimizer - Adam"
      ],
      "metadata": {
        "id": "H59lNGkG7bBm"
      }
    },
    {
      "cell_type": "code",
      "source": [
        "model_3 = tf.keras.Sequential()\n",
        "N_hidden = 64\n",
        "model_3.add(Dense(N_hidden,name='dense_layer_1', input_shape=(784,),activation='relu'))\n",
        "model_3.add(Dropout(0.3))\n",
        "model_3.add(Dense(N_hidden,name='dense_layer_2',activation='relu'))\n",
        "model_3.add(Dropout(0.3))\n",
        "model_3.add(Dense(10,name='dense_layer_3',activation='softmax'))"
      ],
      "metadata": {
        "id": "ImOhjugL7jBy"
      },
      "execution_count": null,
      "outputs": []
    },
    {
      "cell_type": "code",
      "source": [
        "model_3.compile(optimizer='Adam',loss='categorical_crossentropy',metrics=['accuracy'])"
      ],
      "metadata": {
        "id": "RDcyVRoB-wrV"
      },
      "execution_count": null,
      "outputs": []
    },
    {
      "cell_type": "code",
      "source": [
        "training = model_3.fit(X_train,Y_train,batch_size=128,epochs=20,validation_split=0.20)"
      ],
      "metadata": {
        "colab": {
          "base_uri": "https://localhost:8080/"
        },
        "id": "q21S9U9Z_DAe",
        "outputId": "0b3a6e84-a582-4305-bd0b-9b6456a4b3fd"
      },
      "execution_count": null,
      "outputs": [
        {
          "output_type": "stream",
          "name": "stdout",
          "text": [
            "Epoch 1/20\n",
            "375/375 [==============================] - 3s 7ms/step - loss: 0.7119 - accuracy: 0.7803 - val_loss: 0.2441 - val_accuracy: 0.9285\n",
            "Epoch 2/20\n",
            "375/375 [==============================] - 2s 5ms/step - loss: 0.3428 - accuracy: 0.8986 - val_loss: 0.1854 - val_accuracy: 0.9476\n",
            "Epoch 3/20\n",
            "375/375 [==============================] - 1s 4ms/step - loss: 0.2819 - accuracy: 0.9180 - val_loss: 0.1642 - val_accuracy: 0.9534\n",
            "Epoch 4/20\n",
            "375/375 [==============================] - 2s 4ms/step - loss: 0.2461 - accuracy: 0.9292 - val_loss: 0.1486 - val_accuracy: 0.9568\n",
            "Epoch 5/20\n",
            "375/375 [==============================] - 2s 4ms/step - loss: 0.2190 - accuracy: 0.9358 - val_loss: 0.1336 - val_accuracy: 0.9613\n",
            "Epoch 6/20\n",
            "375/375 [==============================] - 2s 4ms/step - loss: 0.2034 - accuracy: 0.9401 - val_loss: 0.1292 - val_accuracy: 0.9631\n",
            "Epoch 7/20\n",
            "375/375 [==============================] - 2s 4ms/step - loss: 0.1876 - accuracy: 0.9442 - val_loss: 0.1278 - val_accuracy: 0.9624\n",
            "Epoch 8/20\n",
            "375/375 [==============================] - 2s 4ms/step - loss: 0.1772 - accuracy: 0.9475 - val_loss: 0.1203 - val_accuracy: 0.9661\n",
            "Epoch 9/20\n",
            "375/375 [==============================] - 2s 6ms/step - loss: 0.1711 - accuracy: 0.9493 - val_loss: 0.1147 - val_accuracy: 0.9687\n",
            "Epoch 10/20\n",
            "375/375 [==============================] - 2s 5ms/step - loss: 0.1576 - accuracy: 0.9522 - val_loss: 0.1126 - val_accuracy: 0.9675\n",
            "Epoch 11/20\n",
            "375/375 [==============================] - 1s 4ms/step - loss: 0.1512 - accuracy: 0.9545 - val_loss: 0.1115 - val_accuracy: 0.9695\n",
            "Epoch 12/20\n",
            "375/375 [==============================] - 1s 4ms/step - loss: 0.1446 - accuracy: 0.9571 - val_loss: 0.1058 - val_accuracy: 0.9701\n",
            "Epoch 13/20\n",
            "375/375 [==============================] - 1s 4ms/step - loss: 0.1418 - accuracy: 0.9562 - val_loss: 0.1064 - val_accuracy: 0.9711\n",
            "Epoch 14/20\n",
            "375/375 [==============================] - 1s 4ms/step - loss: 0.1376 - accuracy: 0.9575 - val_loss: 0.1035 - val_accuracy: 0.9715\n",
            "Epoch 15/20\n",
            "375/375 [==============================] - 2s 4ms/step - loss: 0.1362 - accuracy: 0.9577 - val_loss: 0.1093 - val_accuracy: 0.9698\n",
            "Epoch 16/20\n",
            "375/375 [==============================] - 2s 4ms/step - loss: 0.1318 - accuracy: 0.9607 - val_loss: 0.1035 - val_accuracy: 0.9726\n",
            "Epoch 17/20\n",
            "375/375 [==============================] - 2s 6ms/step - loss: 0.1262 - accuracy: 0.9602 - val_loss: 0.1009 - val_accuracy: 0.9718\n",
            "Epoch 18/20\n",
            "375/375 [==============================] - 2s 6ms/step - loss: 0.1217 - accuracy: 0.9629 - val_loss: 0.0998 - val_accuracy: 0.9715\n",
            "Epoch 19/20\n",
            "375/375 [==============================] - 2s 4ms/step - loss: 0.1215 - accuracy: 0.9629 - val_loss: 0.1020 - val_accuracy: 0.9722\n",
            "Epoch 20/20\n",
            "375/375 [==============================] - 2s 4ms/step - loss: 0.1169 - accuracy: 0.9646 - val_loss: 0.1018 - val_accuracy: 0.9723\n"
          ]
        }
      ]
    },
    {
      "cell_type": "code",
      "source": [
        "import matplotlib.pyplot as plt\n",
        "%matplotlib inline\n",
        "# list all data in training\n",
        "print(training.history.keys())\n",
        "# summarize training for accuracy\n",
        "plt.plot(training.history['accuracy'])\n",
        "plt.plot(training.history['val_accuracy'])\n",
        "plt.title('model accuracy')\n",
        "plt.ylabel('accuracy')\n",
        "plt.xlabel('epoch')\n",
        "plt.legend(['train', 'test'], loc='upper left')\n",
        "plt.show()\n",
        "# summarize traning for loss\n",
        "plt.plot(training.history['loss'])\n",
        "plt.plot(training.history['val_loss'])\n",
        "plt.title('model loss')\n",
        "plt.ylabel('loss')\n",
        "plt.xlabel('epoch')\n",
        "plt.legend(['train', 'test'], loc='upper left')\n",
        "plt.show()"
      ],
      "metadata": {
        "colab": {
          "base_uri": "https://localhost:8080/",
          "height": 944
        },
        "id": "1TyHOdDaAl_S",
        "outputId": "84fafb01-8a0e-47a0-e08d-836d16943346"
      },
      "execution_count": null,
      "outputs": [
        {
          "output_type": "stream",
          "name": "stdout",
          "text": [
            "dict_keys(['loss', 'accuracy', 'val_loss', 'val_accuracy'])\n"
          ]
        },
        {
          "output_type": "display_data",
          "data": {
            "text/plain": [
              "<Figure size 640x480 with 1 Axes>"
            ],
            "image/png": "[encoded data removed]"
          },
          "metadata": {}
        },
        {
          "output_type": "display_data",
          "data": {
            "text/plain": [
              "<Figure size 640x480 with 1 Axes>"
            ],
            "image/png": "[encoded data removed]"
          },
          "metadata": {}
        }
      ]
    },
    {
      "cell_type": "code",
      "source": [
        "test_loss, test_acc = model_3.evaluate(X_test,Y_test)\n",
        "print('Test accuracy:',test_acc)"
      ],
      "metadata": {
        "colab": {
          "base_uri": "https://localhost:8080/"
        },
        "id": "YufUzt0GAukB",
        "outputId": "c6b751c6-b3a7-4f11-e462-f9c7f389ef79"
      },
      "execution_count": null,
      "outputs": [
        {
          "output_type": "stream",
          "name": "stdout",
          "text": [
            "313/313 [==============================] - 1s 2ms/step - loss: 0.0998 - accuracy: 0.9716\n",
            "Test accuracy: 0.9715999960899353\n"
          ]
        }
      ]
    },
    {
      "cell_type": "code",
      "source": [
        "model_3.summary()"
      ],
      "metadata": {
        "colab": {
          "base_uri": "https://localhost:8080/"
        },
        "id": "Y3qJTbXyA8-Y",
        "outputId": "2667d0ca-6305-4dfd-88c0-91f0673e5db2"
      },
      "execution_count": null,
      "outputs": [
        {
          "output_type": "stream",
          "name": "stdout",
          "text": [
            "Model: \"sequential_3\"\n",
            "_________________________________________________________________\n",
            " Layer (type)                Output Shape              Param #   \n",
            "=================================================================\n",
            " dense_layer_1 (Dense)       (None, 64)                50240     \n",
            "                                                                 \n",
            " dropout_2 (Dropout)         (None, 64)                0         \n",
            "                                                                 \n",
            " dense_layer_2 (Dense)       (None, 64)                4160      \n",
            "                                                                 \n",
            " dropout_3 (Dropout)         (None, 64)                0         \n",
            "                                                                 \n",
            " dense_layer_3 (Dense)       (None, 10)                650       \n",
            "                                                                 \n",
            "=================================================================\n",
            "Total params: 55050 (215.04 KB)\n",
            "Trainable params: 55050 (215.04 KB)\n",
            "Non-trainable params: 0 (0.00 Byte)\n",
            "_________________________________________________________________\n"
          ]
        }
      ]
    },
    {
      "cell_type": "code",
      "source": [
        "model_3.get_config()"
      ],
      "metadata": {
        "colab": {
          "base_uri": "https://localhost:8080/"
        },
        "id": "shrnK0JwBdTO",
        "outputId": "6de85912-4fa2-41c3-ab95-abc7a17b6b99"
      },
      "execution_count": null,
      "outputs": [
        {
          "output_type": "execute_result",
          "data": {
            "text/plain": [
              "{'name': 'sequential_3',\n",
              " 'layers': [{'module': 'keras.layers',\n",
              "   'class_name': 'InputLayer',\n",
              "   'config': {'batch_input_shape': (None, 784),\n",
              "    'dtype': 'float32',\n",
              "    'sparse': False,\n",
              "    'ragged': False,\n",
              "    'name': 'dense_layer_1_input'},\n",
              "   'registered_name': None},\n",
              "  {'module': 'keras.layers',\n",
              "   'class_name': 'Dense',\n",
              "   'config': {'name': 'dense_layer_1',\n",
              "    'trainable': True,\n",
              "    'dtype': 'float32',\n",
              "    'batch_input_shape': (None, 784),\n",
              "    'units': 64,\n",
              "    'activation': 'relu',\n",
              "    'use_bias': True,\n",
              "    'kernel_initializer': {'module': 'keras.initializers',\n",
              "     'class_name': 'GlorotUniform',\n",
              "     'config': {'seed': None},\n",
              "     'registered_name': None},\n",
              "    'bias_initializer': {'module': 'keras.initializers',\n",
              "     'class_name': 'Zeros',\n",
              "     'config': {},\n",
              "     'registered_name': None},\n",
              "    'kernel_regularizer': None,\n",
              "    'bias_regularizer': None,\n",
              "    'activity_regularizer': None,\n",
              "    'kernel_constraint': None,\n",
              "    'bias_constraint': None},\n",
              "   'registered_name': None,\n",
              "   'build_config': {'input_shape': (None, 784)}},\n",
              "  {'module': 'keras.layers',\n",
              "   'class_name': 'Dropout',\n",
              "   'config': {'name': 'dropout_2',\n",
              "    'trainable': True,\n",
              "    'dtype': 'float32',\n",
              "    'rate': 0.3,\n",
              "    'noise_shape': None,\n",
              "    'seed': None},\n",
              "   'registered_name': None,\n",
              "   'build_config': {'input_shape': (None, 64)}},\n",
              "  {'module': 'keras.layers',\n",
              "   'class_name': 'Dense',\n",
              "   'config': {'name': 'dense_layer_2',\n",
              "    'trainable': True,\n",
              "    'dtype': 'float32',\n",
              "    'units': 64,\n",
              "    'activation': 'relu',\n",
              "    'use_bias': True,\n",
              "    'kernel_initializer': {'module': 'keras.initializers',\n",
              "     'class_name': 'GlorotUniform',\n",
              "     'config': {'seed': None},\n",
              "     'registered_name': None},\n",
              "    'bias_initializer': {'module': 'keras.initializers',\n",
              "     'class_name': 'Zeros',\n",
              "     'config': {},\n",
              "     'registered_name': None},\n",
              "    'kernel_regularizer': None,\n",
              "    'bias_regularizer': None,\n",
              "    'activity_regularizer': None,\n",
              "    'kernel_constraint': None,\n",
              "    'bias_constraint': None},\n",
              "   'registered_name': None,\n",
              "   'build_config': {'input_shape': (None, 64)}},\n",
              "  {'module': 'keras.layers',\n",
              "   'class_name': 'Dropout',\n",
              "   'config': {'name': 'dropout_3',\n",
              "    'trainable': True,\n",
              "    'dtype': 'float32',\n",
              "    'rate': 0.3,\n",
              "    'noise_shape': None,\n",
              "    'seed': None},\n",
              "   'registered_name': None,\n",
              "   'build_config': {'input_shape': (None, 64)}},\n",
              "  {'module': 'keras.layers',\n",
              "   'class_name': 'Dense',\n",
              "   'config': {'name': 'dense_layer_3',\n",
              "    'trainable': True,\n",
              "    'dtype': 'float32',\n",
              "    'units': 10,\n",
              "    'activation': 'softmax',\n",
              "    'use_bias': True,\n",
              "    'kernel_initializer': {'module': 'keras.initializers',\n",
              "     'class_name': 'GlorotUniform',\n",
              "     'config': {'seed': None},\n",
              "     'registered_name': None},\n",
              "    'bias_initializer': {'module': 'keras.initializers',\n",
              "     'class_name': 'Zeros',\n",
              "     'config': {},\n",
              "     'registered_name': None},\n",
              "    'kernel_regularizer': None,\n",
              "    'bias_regularizer': None,\n",
              "    'activity_regularizer': None,\n",
              "    'kernel_constraint': None,\n",
              "    'bias_constraint': None},\n",
              "   'registered_name': None,\n",
              "   'build_config': {'input_shape': (None, 64)}}]}"
            ]
          },
          "metadata": {},
          "execution_count": 42
        }
      ]
    },
    {
      "cell_type": "markdown",
      "source": [
        "Improved Model 4: Increasing the number of Hidden Layer neuron"
      ],
      "metadata": {
        "id": "4twWbevSBmtY"
      }
    },
    {
      "cell_type": "code",
      "source": [
        "model_4 = tf.keras.Sequential()\n",
        "N_hidden = 512\n",
        "model_4.add(Dense(N_hidden,name='dense_layer_1',input_shape=(784,),activation='relu'))\n",
        "model_4.add(Dropout(0.3))\n",
        "model_4.add(Dense(N_hidden,name='dense_layer_2',activation='relu'))\n",
        "model_4.add(Dropout(0.3))\n",
        "model_4.add(Dense(10,name='dense_layer_3',activation='softmax'))\n"
      ],
      "metadata": {
        "id": "lmlmohkYBtMX"
      },
      "execution_count": null,
      "outputs": []
    },
    {
      "cell_type": "code",
      "source": [
        "model_4.compile(optimizer='Adam',loss='categorical_crossentropy',metrics=['accuracy'])"
      ],
      "metadata": {
        "id": "Jvi2ufrFCV9B"
      },
      "execution_count": null,
      "outputs": []
    },
    {
      "cell_type": "code",
      "source": [
        "training = model_4.fit(X_train,Y_train,batch_size=128,epochs=31,validation_split=0.2)"
      ],
      "metadata": {
        "colab": {
          "base_uri": "https://localhost:8080/"
        },
        "id": "COMAAkZxC6bJ",
        "outputId": "e6480ec3-4c2f-4b05-a8d5-199dbc27f02b"
      },
      "execution_count": null,
      "outputs": [
        {
          "output_type": "stream",
          "name": "stdout",
          "text": [
            "Epoch 1/31\n",
            "375/375 [==============================] - 8s 18ms/step - loss: 0.3034 - accuracy: 0.9082 - val_loss: 0.1247 - val_accuracy: 0.9635\n",
            "Epoch 2/31\n",
            "375/375 [==============================] - 8s 20ms/step - loss: 0.1294 - accuracy: 0.9608 - val_loss: 0.1036 - val_accuracy: 0.9688\n",
            "Epoch 3/31\n",
            "375/375 [==============================] - 6s 17ms/step - loss: 0.0929 - accuracy: 0.9706 - val_loss: 0.0919 - val_accuracy: 0.9728\n",
            "Epoch 4/31\n",
            "375/375 [==============================] - 8s 21ms/step - loss: 0.0732 - accuracy: 0.9773 - val_loss: 0.0826 - val_accuracy: 0.9749\n",
            "Epoch 5/31\n",
            "375/375 [==============================] - 6s 17ms/step - loss: 0.0615 - accuracy: 0.9803 - val_loss: 0.0844 - val_accuracy: 0.9749\n",
            "Epoch 6/31\n",
            "375/375 [==============================] - 8s 21ms/step - loss: 0.0522 - accuracy: 0.9829 - val_loss: 0.0761 - val_accuracy: 0.9779\n",
            "Epoch 7/31\n",
            "375/375 [==============================] - 6s 17ms/step - loss: 0.0445 - accuracy: 0.9854 - val_loss: 0.0823 - val_accuracy: 0.9778\n",
            "Epoch 8/31\n",
            "375/375 [==============================] - 8s 20ms/step - loss: 0.0424 - accuracy: 0.9856 - val_loss: 0.0786 - val_accuracy: 0.9784\n",
            "Epoch 9/31\n",
            "375/375 [==============================] - 6s 17ms/step - loss: 0.0383 - accuracy: 0.9880 - val_loss: 0.0881 - val_accuracy: 0.9784\n",
            "Epoch 10/31\n",
            "375/375 [==============================] - 8s 20ms/step - loss: 0.0330 - accuracy: 0.9894 - val_loss: 0.0829 - val_accuracy: 0.9780\n",
            "Epoch 11/31\n",
            "375/375 [==============================] - 6s 17ms/step - loss: 0.0314 - accuracy: 0.9898 - val_loss: 0.0820 - val_accuracy: 0.9809\n",
            "Epoch 12/31\n",
            "375/375 [==============================] - 8s 21ms/step - loss: 0.0299 - accuracy: 0.9899 - val_loss: 0.0829 - val_accuracy: 0.9799\n",
            "Epoch 13/31\n",
            "375/375 [==============================] - 7s 17ms/step - loss: 0.0287 - accuracy: 0.9903 - val_loss: 0.0919 - val_accuracy: 0.9790\n",
            "Epoch 14/31\n",
            "375/375 [==============================] - 8s 20ms/step - loss: 0.0284 - accuracy: 0.9905 - val_loss: 0.0907 - val_accuracy: 0.9789\n",
            "Epoch 15/31\n",
            "375/375 [==============================] - 6s 17ms/step - loss: 0.0247 - accuracy: 0.9919 - val_loss: 0.0813 - val_accuracy: 0.9812\n",
            "Epoch 16/31\n",
            "375/375 [==============================] - 7s 20ms/step - loss: 0.0230 - accuracy: 0.9921 - val_loss: 0.0859 - val_accuracy: 0.9813\n",
            "Epoch 17/31\n",
            "375/375 [==============================] - 7s 19ms/step - loss: 0.0258 - accuracy: 0.9918 - val_loss: 0.0923 - val_accuracy: 0.9812\n",
            "Epoch 18/31\n",
            "375/375 [==============================] - 7s 18ms/step - loss: 0.0216 - accuracy: 0.9924 - val_loss: 0.0893 - val_accuracy: 0.9803\n",
            "Epoch 19/31\n",
            "375/375 [==============================] - 8s 21ms/step - loss: 0.0224 - accuracy: 0.9923 - val_loss: 0.1004 - val_accuracy: 0.9797\n",
            "Epoch 20/31\n",
            "375/375 [==============================] - 6s 17ms/step - loss: 0.0184 - accuracy: 0.9938 - val_loss: 0.0900 - val_accuracy: 0.9817\n",
            "Epoch 21/31\n",
            "375/375 [==============================] - 8s 20ms/step - loss: 0.0212 - accuracy: 0.9929 - val_loss: 0.1130 - val_accuracy: 0.9770\n",
            "Epoch 22/31\n",
            "375/375 [==============================] - 7s 18ms/step - loss: 0.0179 - accuracy: 0.9939 - val_loss: 0.0930 - val_accuracy: 0.9821\n",
            "Epoch 23/31\n",
            "375/375 [==============================] - 8s 21ms/step - loss: 0.0206 - accuracy: 0.9931 - val_loss: 0.0990 - val_accuracy: 0.9799\n",
            "Epoch 24/31\n",
            "375/375 [==============================] - 6s 17ms/step - loss: 0.0160 - accuracy: 0.9949 - val_loss: 0.0992 - val_accuracy: 0.9807\n",
            "Epoch 25/31\n",
            "375/375 [==============================] - 8s 20ms/step - loss: 0.0190 - accuracy: 0.9941 - val_loss: 0.0903 - val_accuracy: 0.9829\n",
            "Epoch 26/31\n",
            "375/375 [==============================] - 6s 17ms/step - loss: 0.0183 - accuracy: 0.9940 - val_loss: 0.0911 - val_accuracy: 0.9824\n",
            "Epoch 27/31\n",
            "375/375 [==============================] - 8s 20ms/step - loss: 0.0158 - accuracy: 0.9948 - val_loss: 0.1053 - val_accuracy: 0.9817\n",
            "Epoch 28/31\n",
            "375/375 [==============================] - 6s 17ms/step - loss: 0.0154 - accuracy: 0.9950 - val_loss: 0.0967 - val_accuracy: 0.9827\n",
            "Epoch 29/31\n",
            "375/375 [==============================] - 8s 21ms/step - loss: 0.0212 - accuracy: 0.9934 - val_loss: 0.1118 - val_accuracy: 0.9809\n",
            "Epoch 30/31\n",
            "375/375 [==============================] - 6s 17ms/step - loss: 0.0158 - accuracy: 0.9948 - val_loss: 0.0995 - val_accuracy: 0.9832\n",
            "Epoch 31/31\n",
            "375/375 [==============================] - 8s 20ms/step - loss: 0.0171 - accuracy: 0.9945 - val_loss: 0.1189 - val_accuracy: 0.9801\n"
          ]
        }
      ]
    },
    {
      "cell_type": "code",
      "source": [
        "test_loss, test_acc = model_4.evaluate(X_test,Y_test)\n",
        "print('Test accuracy:',test_acc)"
      ],
      "metadata": {
        "colab": {
          "base_uri": "https://localhost:8080/"
        },
        "id": "IBS_fUqWEcak",
        "outputId": "8d9b0d32-a57c-4413-9cf1-a39e6917e966"
      },
      "execution_count": null,
      "outputs": [
        {
          "output_type": "stream",
          "name": "stdout",
          "text": [
            "313/313 [==============================] - 1s 3ms/step - loss: 0.1077 - accuracy: 0.9810\n",
            "Test accuracy: 0.9810000061988831\n"
          ]
        }
      ]
    },
    {
      "cell_type": "code",
      "source": [
        "import matplotlib.pyplot as plt\n",
        "%matplotlib inline\n",
        "# list all data in training\n",
        "print(training.history.keys())\n",
        "# summarize training for accuracy\n",
        "plt.plot(training.history['accuracy'])\n",
        "plt.plot(training.history['val_accuracy'])\n",
        "plt.title('model accuracy')\n",
        "plt.ylabel('accuracy')\n",
        "plt.xlabel('epoch')\n",
        "plt.legend(['train', 'test'], loc='upper left')\n",
        "plt.show()\n",
        "# summarize traning for loss\n",
        "plt.plot(training.history['loss'])\n",
        "plt.plot(training.history['val_loss'])\n",
        "plt.title('model loss')\n",
        "plt.ylabel('loss')\n",
        "plt.xlabel('epoch')\n",
        "plt.legend(['train', 'test'], loc='upper left')\n",
        "plt.show()"
      ],
      "metadata": {
        "colab": {
          "base_uri": "https://localhost:8080/",
          "height": 944
        },
        "id": "8QE3GjDJEuIT",
        "outputId": "5684527e-face-422d-826e-ee7cc11939ea"
      },
      "execution_count": null,
      "outputs": [
        {
          "output_type": "stream",
          "name": "stdout",
          "text": [
            "dict_keys(['loss', 'accuracy', 'val_loss', 'val_accuracy'])\n"
          ]
        },
        {
          "output_type": "display_data",
          "data": {
            "text/plain": [
              "<Figure size 640x480 with 1 Axes>"
            ],
            "image/png": "[encoded data removed]"
          },
          "metadata": {}
        },
        {
          "output_type": "display_data",
          "data": {
            "text/plain": [
              "<Figure size 640x480 with 1 Axes>"
            ],
            "image/png": "[encoded data removed]"
          },
          "metadata": {}
        }
      ]
    },
    {
      "cell_type": "code",
      "source": [
        "model_4.summary()"
      ],
      "metadata": {
        "colab": {
          "base_uri": "https://localhost:8080/"
        },
        "id": "ISK2gmHjE6A8",
        "outputId": "f2cc2641-4f5b-4bde-c732-656492514c39"
      },
      "execution_count": null,
      "outputs": [
        {
          "output_type": "stream",
          "name": "stdout",
          "text": [
            "Model: \"sequential_5\"\n",
            "_________________________________________________________________\n",
            " Layer (type)                Output Shape              Param #   \n",
            "=================================================================\n",
            " dense_layer_1 (Dense)       (None, 512)               401920    \n",
            "                                                                 \n",
            " dropout_6 (Dropout)         (None, 512)               0         \n",
            "                                                                 \n",
            " dense_layer_2 (Dense)       (None, 512)               262656    \n",
            "                                                                 \n",
            " dropout_7 (Dropout)         (None, 512)               0         \n",
            "                                                                 \n",
            " dense_layer_3 (Dense)       (None, 10)                5130      \n",
            "                                                                 \n",
            "=================================================================\n",
            "Total params: 669706 (2.55 MB)\n",
            "Trainable params: 669706 (2.55 MB)\n",
            "Non-trainable params: 0 (0.00 Byte)\n",
            "_________________________________________________________________\n"
          ]
        }
      ]
    },
    {
      "cell_type": "code",
      "source": [
        "model_4.get_config()"
      ],
      "metadata": {
        "colab": {
          "base_uri": "https://localhost:8080/"
        },
        "id": "pc9WpdeDFB3c",
        "outputId": "633a280f-1238-46c8-e828-b6043ff09aa6"
      },
      "execution_count": null,
      "outputs": [
        {
          "output_type": "execute_result",
          "data": {
            "text/plain": [
              "{'name': 'sequential_5',\n",
              " 'layers': [{'module': 'keras.layers',\n",
              "   'class_name': 'InputLayer',\n",
              "   'config': {'batch_input_shape': (None, 784),\n",
              "    'dtype': 'float32',\n",
              "    'sparse': False,\n",
              "    'ragged': False,\n",
              "    'name': 'dense_layer_1_input'},\n",
              "   'registered_name': None},\n",
              "  {'module': 'keras.layers',\n",
              "   'class_name': 'Dense',\n",
              "   'config': {'name': 'dense_layer_1',\n",
              "    'trainable': True,\n",
              "    'dtype': 'float32',\n",
              "    'batch_input_shape': (None, 784),\n",
              "    'units': 512,\n",
              "    'activation': 'relu',\n",
              "    'use_bias': True,\n",
              "    'kernel_initializer': {'module': 'keras.initializers',\n",
              "     'class_name': 'GlorotUniform',\n",
              "     'config': {'seed': None},\n",
              "     'registered_name': None},\n",
              "    'bias_initializer': {'module': 'keras.initializers',\n",
              "     'class_name': 'Zeros',\n",
              "     'config': {},\n",
              "     'registered_name': None},\n",
              "    'kernel_regularizer': None,\n",
              "    'bias_regularizer': None,\n",
              "    'activity_regularizer': None,\n",
              "    'kernel_constraint': None,\n",
              "    'bias_constraint': None},\n",
              "   'registered_name': None,\n",
              "   'build_config': {'input_shape': (None, 784)}},\n",
              "  {'module': 'keras.layers',\n",
              "   'class_name': 'Dropout',\n",
              "   'config': {'name': 'dropout_6',\n",
              "    'trainable': True,\n",
              "    'dtype': 'float32',\n",
              "    'rate': 0.3,\n",
              "    'noise_shape': None,\n",
              "    'seed': None},\n",
              "   'registered_name': None,\n",
              "   'build_config': {'input_shape': (None, 512)}},\n",
              "  {'module': 'keras.layers',\n",
              "   'class_name': 'Dense',\n",
              "   'config': {'name': 'dense_layer_2',\n",
              "    'trainable': True,\n",
              "    'dtype': 'float32',\n",
              "    'units': 512,\n",
              "    'activation': 'relu',\n",
              "    'use_bias': True,\n",
              "    'kernel_initializer': {'module': 'keras.initializers',\n",
              "     'class_name': 'GlorotUniform',\n",
              "     'config': {'seed': None},\n",
              "     'registered_name': None},\n",
              "    'bias_initializer': {'module': 'keras.initializers',\n",
              "     'class_name': 'Zeros',\n",
              "     'config': {},\n",
              "     'registered_name': None},\n",
              "    'kernel_regularizer': None,\n",
              "    'bias_regularizer': None,\n",
              "    'activity_regularizer': None,\n",
              "    'kernel_constraint': None,\n",
              "    'bias_constraint': None},\n",
              "   'registered_name': None,\n",
              "   'build_config': {'input_shape': (None, 512)}},\n",
              "  {'module': 'keras.layers',\n",
              "   'class_name': 'Dropout',\n",
              "   'config': {'name': 'dropout_7',\n",
              "    'trainable': True,\n",
              "    'dtype': 'float32',\n",
              "    'rate': 0.3,\n",
              "    'noise_shape': None,\n",
              "    'seed': None},\n",
              "   'registered_name': None,\n",
              "   'build_config': {'input_shape': (None, 512)}},\n",
              "  {'module': 'keras.layers',\n",
              "   'class_name': 'Dense',\n",
              "   'config': {'name': 'dense_layer_3',\n",
              "    'trainable': True,\n",
              "    'dtype': 'float32',\n",
              "    'units': 10,\n",
              "    'activation': 'softmax',\n",
              "    'use_bias': True,\n",
              "    'kernel_initializer': {'module': 'keras.initializers',\n",
              "     'class_name': 'GlorotUniform',\n",
              "     'config': {'seed': None},\n",
              "     'registered_name': None},\n",
              "    'bias_initializer': {'module': 'keras.initializers',\n",
              "     'class_name': 'Zeros',\n",
              "     'config': {},\n",
              "     'registered_name': None},\n",
              "    'kernel_regularizer': None,\n",
              "    'bias_regularizer': None,\n",
              "    'activity_regularizer': None,\n",
              "    'kernel_constraint': None,\n",
              "    'bias_constraint': None},\n",
              "   'registered_name': None,\n",
              "   'build_config': {'input_shape': (None, 512)}}]}"
            ]
          },
          "metadata": {},
          "execution_count": 50
        }
      ]
    },
    {
      "cell_type": "markdown",
      "source": [
        "Improved Model 5: Manipulating the batch size"
      ],
      "metadata": {
        "id": "aFgByCUgFNpJ"
      }
    },
    {
      "cell_type": "code",
      "source": [
        "model_5 = tf.keras.Sequential()\n",
        "model_5.add(Dense(N_hidden,name='dense_layer_1',input_shape=(784,),activation='relu'))\n",
        "model_5.add(Dropout(0.3))\n",
        "model_5.add(Dense(N_hidden,name='dense_layer_2',activation='relu'))\n",
        "model_5.add(Dropout(0.3))\n",
        "model_5.add(Dense(10,name='dense_layer_3',activation='softmax'))"
      ],
      "metadata": {
        "id": "IAgvF2hTFUCJ"
      },
      "execution_count": null,
      "outputs": []
    },
    {
      "cell_type": "code",
      "source": [
        "model_5.compile(optimizer='Adam',loss='categorical_crossentropy',metrics=['accuracy'])"
      ],
      "metadata": {
        "id": "Z1jkau4QGEyo"
      },
      "execution_count": null,
      "outputs": []
    },
    {
      "cell_type": "code",
      "source": [
        "training = model_5.fit(X_train,Y_train,batch_size=64,epochs=30, validation_split=0.2)\n"
      ],
      "metadata": {
        "colab": {
          "base_uri": "https://localhost:8080/"
        },
        "id": "1pdWgJX2GXGB",
        "outputId": "d32a70b0-1ca1-4924-ad8b-2f3ea12bfe8f"
      },
      "execution_count": null,
      "outputs": [
        {
          "output_type": "stream",
          "name": "stdout",
          "text": [
            "Epoch 1/30\n",
            "750/750 [==============================] - 10s 13ms/step - loss: 0.2710 - accuracy: 0.9162 - val_loss: 0.1165 - val_accuracy: 0.9649\n",
            "Epoch 2/30\n",
            "750/750 [==============================] - 10s 14ms/step - loss: 0.1233 - accuracy: 0.9617 - val_loss: 0.1068 - val_accuracy: 0.9653\n",
            "Epoch 3/30\n",
            "750/750 [==============================] - 10s 14ms/step - loss: 0.0926 - accuracy: 0.9712 - val_loss: 0.0855 - val_accuracy: 0.9731\n",
            "Epoch 4/30\n",
            "750/750 [==============================] - 10s 14ms/step - loss: 0.0747 - accuracy: 0.9771 - val_loss: 0.0845 - val_accuracy: 0.9756\n",
            "Epoch 5/30\n",
            "750/750 [==============================] - 9s 12ms/step - loss: 0.0635 - accuracy: 0.9800 - val_loss: 0.0833 - val_accuracy: 0.9766\n",
            "Epoch 6/30\n",
            "750/750 [==============================] - 10s 14ms/step - loss: 0.0579 - accuracy: 0.9821 - val_loss: 0.0886 - val_accuracy: 0.9752\n",
            "Epoch 7/30\n",
            "750/750 [==============================] - 12s 16ms/step - loss: 0.0529 - accuracy: 0.9835 - val_loss: 0.0893 - val_accuracy: 0.9769\n",
            "Epoch 8/30\n",
            "750/750 [==============================] - 10s 14ms/step - loss: 0.0463 - accuracy: 0.9852 - val_loss: 0.0801 - val_accuracy: 0.9797\n",
            "Epoch 9/30\n",
            "750/750 [==============================] - 10s 13ms/step - loss: 0.0441 - accuracy: 0.9856 - val_loss: 0.0866 - val_accuracy: 0.9779\n",
            "Epoch 10/30\n",
            "750/750 [==============================] - 10s 13ms/step - loss: 0.0424 - accuracy: 0.9856 - val_loss: 0.0882 - val_accuracy: 0.9783\n",
            "Epoch 11/30\n",
            "750/750 [==============================] - 10s 14ms/step - loss: 0.0371 - accuracy: 0.9877 - val_loss: 0.0869 - val_accuracy: 0.9792\n",
            "Epoch 12/30\n",
            "750/750 [==============================] - 10s 14ms/step - loss: 0.0363 - accuracy: 0.9883 - val_loss: 0.0882 - val_accuracy: 0.9793\n",
            "Epoch 13/30\n",
            "750/750 [==============================] - 10s 13ms/step - loss: 0.0380 - accuracy: 0.9878 - val_loss: 0.1025 - val_accuracy: 0.9785\n",
            "Epoch 14/30\n",
            "750/750 [==============================] - 10s 13ms/step - loss: 0.0334 - accuracy: 0.9889 - val_loss: 0.0851 - val_accuracy: 0.9807\n",
            "Epoch 15/30\n",
            "750/750 [==============================] - 10s 14ms/step - loss: 0.0310 - accuracy: 0.9900 - val_loss: 0.0889 - val_accuracy: 0.9797\n",
            "Epoch 16/30\n",
            "750/750 [==============================] - 10s 14ms/step - loss: 0.0314 - accuracy: 0.9902 - val_loss: 0.0914 - val_accuracy: 0.9812\n",
            "Epoch 17/30\n",
            "750/750 [==============================] - 10s 13ms/step - loss: 0.0303 - accuracy: 0.9904 - val_loss: 0.0862 - val_accuracy: 0.9820\n",
            "Epoch 18/30\n",
            "750/750 [==============================] - 10s 13ms/step - loss: 0.0250 - accuracy: 0.9921 - val_loss: 0.1042 - val_accuracy: 0.9787\n",
            "Epoch 19/30\n",
            "750/750 [==============================] - 10s 14ms/step - loss: 0.0278 - accuracy: 0.9917 - val_loss: 0.0960 - val_accuracy: 0.9802\n",
            "Epoch 20/30\n",
            "750/750 [==============================] - 10s 14ms/step - loss: 0.0259 - accuracy: 0.9917 - val_loss: 0.1008 - val_accuracy: 0.9797\n",
            "Epoch 21/30\n",
            "750/750 [==============================] - 10s 13ms/step - loss: 0.0280 - accuracy: 0.9915 - val_loss: 0.1031 - val_accuracy: 0.9801\n",
            "Epoch 22/30\n",
            "750/750 [==============================] - 10s 13ms/step - loss: 0.0221 - accuracy: 0.9931 - val_loss: 0.1078 - val_accuracy: 0.9795\n",
            "Epoch 23/30\n",
            "750/750 [==============================] - 10s 14ms/step - loss: 0.0239 - accuracy: 0.9926 - val_loss: 0.1109 - val_accuracy: 0.9796\n",
            "Epoch 24/30\n",
            "750/750 [==============================] - 10s 14ms/step - loss: 0.0250 - accuracy: 0.9923 - val_loss: 0.1029 - val_accuracy: 0.9808\n",
            "Epoch 25/30\n",
            "750/750 [==============================] - 10s 13ms/step - loss: 0.0239 - accuracy: 0.9926 - val_loss: 0.1031 - val_accuracy: 0.9804\n",
            "Epoch 26/30\n",
            "750/750 [==============================] - 10s 13ms/step - loss: 0.0240 - accuracy: 0.9927 - val_loss: 0.1038 - val_accuracy: 0.9809\n",
            "Epoch 27/30\n",
            "750/750 [==============================] - 10s 14ms/step - loss: 0.0235 - accuracy: 0.9933 - val_loss: 0.1077 - val_accuracy: 0.9818\n",
            "Epoch 28/30\n",
            "750/750 [==============================] - 10s 14ms/step - loss: 0.0231 - accuracy: 0.9931 - val_loss: 0.1092 - val_accuracy: 0.9809\n",
            "Epoch 29/30\n",
            "750/750 [==============================] - 10s 13ms/step - loss: 0.0199 - accuracy: 0.9938 - val_loss: 0.0989 - val_accuracy: 0.9815\n",
            "Epoch 30/30\n",
            "750/750 [==============================] - 10s 13ms/step - loss: 0.0245 - accuracy: 0.9929 - val_loss: 0.1179 - val_accuracy: 0.9803\n"
          ]
        }
      ]
    },
    {
      "cell_type": "code",
      "source": [
        "import matplotlib.pyplot as plt\n",
        "%matplotlib inline\n",
        "# list all data in training\n",
        "print(training.history.keys())\n",
        "# summarize training for accuracy\n",
        "plt.plot(training.history['accuracy'])\n",
        "plt.plot(training.history['val_accuracy'])\n",
        "plt.title('model accuracy')\n",
        "plt.ylabel('accuracy')\n",
        "plt.xlabel('epoch')\n",
        "plt.legend(['train', 'test'], loc='upper left')\n",
        "plt.show()\n",
        "# summarize traning for loss\n",
        "plt.plot(training.history['loss'])\n",
        "plt.plot(training.history['val_loss'])\n",
        "plt.title('model loss')\n",
        "plt.ylabel('loss')\n",
        "plt.xlabel('epoch')\n",
        "plt.legend(['train', 'test'], loc='upper left')\n",
        "plt.show()"
      ],
      "metadata": {
        "colab": {
          "base_uri": "https://localhost:8080/",
          "height": 944
        },
        "id": "L45lUCUHH7z-",
        "outputId": "e4f926ce-9b80-4f02-e163-c56eb64ec454"
      },
      "execution_count": null,
      "outputs": [
        {
          "output_type": "stream",
          "name": "stdout",
          "text": [
            "dict_keys(['loss', 'accuracy', 'val_loss', 'val_accuracy'])\n"
          ]
        },
        {
          "output_type": "display_data",
          "data": {
            "text/plain": [
              "<Figure size 640x480 with 1 Axes>"
            ],
            "image/png": "[encoded data removed]"
          },
          "metadata": {}
        },
        {
          "output_type": "display_data",
          "data": {
            "text/plain": [
              "<Figure size 640x480 with 1 Axes>"
            ],
            "image/png": "[encoded data removed]"
          },
          "metadata": {}
        }
      ]
    },
    {
      "cell_type": "code",
      "source": [
        "test_loss, test_acc = model_5.evaluate(X_test, Y_test)\n",
        "print('Test accuracy',test_acc)"
      ],
      "metadata": {
        "colab": {
          "base_uri": "https://localhost:8080/"
        },
        "id": "74vlVq7RIG2X",
        "outputId": "cda5b667-c129-4675-f2f1-ea97eeb6a102"
      },
      "execution_count": null,
      "outputs": [
        {
          "output_type": "stream",
          "name": "stdout",
          "text": [
            "313/313 [==============================] - 1s 3ms/step - loss: 0.1016 - accuracy: 0.9828\n",
            "Test accuracy 0.9828000068664551\n"
          ]
        }
      ]
    },
    {
      "cell_type": "code",
      "source": [
        "model_5.summary()"
      ],
      "metadata": {
        "colab": {
          "base_uri": "https://localhost:8080/"
        },
        "id": "B187wClpIUei",
        "outputId": "b204a912-4757-48b6-cf06-31876ce5be9a"
      },
      "execution_count": null,
      "outputs": [
        {
          "output_type": "stream",
          "name": "stdout",
          "text": [
            "Model: \"sequential_6\"\n",
            "_________________________________________________________________\n",
            " Layer (type)                Output Shape              Param #   \n",
            "=================================================================\n",
            " dense_layer_1 (Dense)       (None, 512)               401920    \n",
            "                                                                 \n",
            " dropout_8 (Dropout)         (None, 512)               0         \n",
            "                                                                 \n",
            " dense_layer_2 (Dense)       (None, 512)               262656    \n",
            "                                                                 \n",
            " dropout_9 (Dropout)         (None, 512)               0         \n",
            "                                                                 \n",
            " dense_layer_3 (Dense)       (None, 10)                5130      \n",
            "                                                                 \n",
            "=================================================================\n",
            "Total params: 669706 (2.55 MB)\n",
            "Trainable params: 669706 (2.55 MB)\n",
            "Non-trainable params: 0 (0.00 Byte)\n",
            "_________________________________________________________________\n"
          ]
        }
      ]
    },
    {
      "cell_type": "code",
      "source": [
        "model_5.get_config()"
      ],
      "metadata": {
        "colab": {
          "base_uri": "https://localhost:8080/"
        },
        "id": "hjwat8xlIX8X",
        "outputId": "f4f24168-4ba1-40f5-8a4e-8103e1ed1234"
      },
      "execution_count": null,
      "outputs": [
        {
          "output_type": "execute_result",
          "data": {
            "text/plain": [
              "{'name': 'sequential_6',\n",
              " 'layers': [{'module': 'keras.layers',\n",
              "   'class_name': 'InputLayer',\n",
              "   'config': {'batch_input_shape': (None, 784),\n",
              "    'dtype': 'float32',\n",
              "    'sparse': False,\n",
              "    'ragged': False,\n",
              "    'name': 'dense_layer_1_input'},\n",
              "   'registered_name': None},\n",
              "  {'module': 'keras.layers',\n",
              "   'class_name': 'Dense',\n",
              "   'config': {'name': 'dense_layer_1',\n",
              "    'trainable': True,\n",
              "    'dtype': 'float32',\n",
              "    'batch_input_shape': (None, 784),\n",
              "    'units': 512,\n",
              "    'activation': 'relu',\n",
              "    'use_bias': True,\n",
              "    'kernel_initializer': {'module': 'keras.initializers',\n",
              "     'class_name': 'GlorotUniform',\n",
              "     'config': {'seed': None},\n",
              "     'registered_name': None},\n",
              "    'bias_initializer': {'module': 'keras.initializers',\n",
              "     'class_name': 'Zeros',\n",
              "     'config': {},\n",
              "     'registered_name': None},\n",
              "    'kernel_regularizer': None,\n",
              "    'bias_regularizer': None,\n",
              "    'activity_regularizer': None,\n",
              "    'kernel_constraint': None,\n",
              "    'bias_constraint': None},\n",
              "   'registered_name': None,\n",
              "   'build_config': {'input_shape': (None, 784)}},\n",
              "  {'module': 'keras.layers',\n",
              "   'class_name': 'Dropout',\n",
              "   'config': {'name': 'dropout_8',\n",
              "    'trainable': True,\n",
              "    'dtype': 'float32',\n",
              "    'rate': 0.3,\n",
              "    'noise_shape': None,\n",
              "    'seed': None},\n",
              "   'registered_name': None,\n",
              "   'build_config': {'input_shape': (None, 512)}},\n",
              "  {'module': 'keras.layers',\n",
              "   'class_name': 'Dense',\n",
              "   'config': {'name': 'dense_layer_2',\n",
              "    'trainable': True,\n",
              "    'dtype': 'float32',\n",
              "    'units': 512,\n",
              "    'activation': 'relu',\n",
              "    'use_bias': True,\n",
              "    'kernel_initializer': {'module': 'keras.initializers',\n",
              "     'class_name': 'GlorotUniform',\n",
              "     'config': {'seed': None},\n",
              "     'registered_name': None},\n",
              "    'bias_initializer': {'module': 'keras.initializers',\n",
              "     'class_name': 'Zeros',\n",
              "     'config': {},\n",
              "     'registered_name': None},\n",
              "    'kernel_regularizer': None,\n",
              "    'bias_regularizer': None,\n",
              "    'activity_regularizer': None,\n",
              "    'kernel_constraint': None,\n",
              "    'bias_constraint': None},\n",
              "   'registered_name': None,\n",
              "   'build_config': {'input_shape': (None, 512)}},\n",
              "  {'module': 'keras.layers',\n",
              "   'class_name': 'Dropout',\n",
              "   'config': {'name': 'dropout_9',\n",
              "    'trainable': True,\n",
              "    'dtype': 'float32',\n",
              "    'rate': 0.3,\n",
              "    'noise_shape': None,\n",
              "    'seed': None},\n",
              "   'registered_name': None,\n",
              "   'build_config': {'input_shape': (None, 512)}},\n",
              "  {'module': 'keras.layers',\n",
              "   'class_name': 'Dense',\n",
              "   'config': {'name': 'dense_layer_3',\n",
              "    'trainable': True,\n",
              "    'dtype': 'float32',\n",
              "    'units': 10,\n",
              "    'activation': 'softmax',\n",
              "    'use_bias': True,\n",
              "    'kernel_initializer': {'module': 'keras.initializers',\n",
              "     'class_name': 'GlorotUniform',\n",
              "     'config': {'seed': None},\n",
              "     'registered_name': None},\n",
              "    'bias_initializer': {'module': 'keras.initializers',\n",
              "     'class_name': 'Zeros',\n",
              "     'config': {},\n",
              "     'registered_name': None},\n",
              "    'kernel_regularizer': None,\n",
              "    'bias_regularizer': None,\n",
              "    'activity_regularizer': None,\n",
              "    'kernel_constraint': None,\n",
              "    'bias_constraint': None},\n",
              "   'registered_name': None,\n",
              "   'build_config': {'input_shape': (None, 512)}}]}"
            ]
          },
          "metadata": {},
          "execution_count": 57
        }
      ]
    },
    {
      "cell_type": "markdown",
      "source": [
        "Improved Model 6: Adding another hidden layer to the model"
      ],
      "metadata": {
        "id": "1wUO91pJIxhc"
      }
    },
    {
      "cell_type": "code",
      "source": [
        "model_6 = tf.keras.Sequential()\n",
        "N_hidden = 512\n",
        "\n",
        "model_6.add(Dense(N_hidden, name='dense_layer_1',input_shape=(784,),activation='relu'))\n",
        "model_6.add(Dropout(0.3))\n",
        "model_6.add(Dense(N_hidden, name='dense_layer_2',activation='relu'))\n",
        "model_6.add(Dropout(0.30))\n",
        "model_6.add(Dense(N_hidden,name='dense_layer_3',activation='relu'))\n",
        "model_6.add(Dropout(0.30))\n",
        "model_6.add(Dense(10,name='dense_layer_4',activation='softmax'))\n"
      ],
      "metadata": {
        "id": "tpoiGi4AIyYa"
      },
      "execution_count": null,
      "outputs": []
    },
    {
      "cell_type": "code",
      "source": [
        "model_6.compile(optimizer='Adam',loss='categorical_crossentropy',metrics=['accuracy'])"
      ],
      "metadata": {
        "id": "_SQpofHVJqPG"
      },
      "execution_count": null,
      "outputs": []
    },
    {
      "cell_type": "code",
      "source": [
        "model_6.fit(X_train,Y_train,batch_size=64,epochs=30,validation_split=0.20)"
      ],
      "metadata": {
        "colab": {
          "base_uri": "https://localhost:8080/"
        },
        "id": "gu1bQskFJ1kj",
        "outputId": "6ea6b3f0-ecfb-41d6-ce46-046ed71d0aa4"
      },
      "execution_count": null,
      "outputs": [
        {
          "output_type": "stream",
          "name": "stdout",
          "text": [
            "Epoch 1/30\n",
            "750/750 [==============================] - 16s 20ms/step - loss: 0.2952 - accuracy: 0.9099 - val_loss: 0.1325 - val_accuracy: 0.9593\n",
            "Epoch 2/30\n",
            "750/750 [==============================] - 14s 19ms/step - loss: 0.1395 - accuracy: 0.9581 - val_loss: 0.1199 - val_accuracy: 0.9648\n",
            "Epoch 3/30\n",
            "750/750 [==============================] - 14s 19ms/step - loss: 0.1078 - accuracy: 0.9665 - val_loss: 0.0963 - val_accuracy: 0.9714\n",
            "Epoch 4/30\n",
            "750/750 [==============================] - 16s 21ms/step - loss: 0.0889 - accuracy: 0.9720 - val_loss: 0.0908 - val_accuracy: 0.9723\n",
            "Epoch 5/30\n",
            "750/750 [==============================] - 15s 19ms/step - loss: 0.0796 - accuracy: 0.9754 - val_loss: 0.0910 - val_accuracy: 0.9754\n",
            "Epoch 6/30\n",
            "750/750 [==============================] - 14s 19ms/step - loss: 0.0694 - accuracy: 0.9783 - val_loss: 0.0997 - val_accuracy: 0.9739\n",
            "Epoch 7/30\n",
            "750/750 [==============================] - 16s 21ms/step - loss: 0.0659 - accuracy: 0.9802 - val_loss: 0.0901 - val_accuracy: 0.9743\n",
            "Epoch 8/30\n",
            "750/750 [==============================] - 14s 19ms/step - loss: 0.0585 - accuracy: 0.9819 - val_loss: 0.0900 - val_accuracy: 0.9766\n",
            "Epoch 9/30\n",
            "750/750 [==============================] - 14s 19ms/step - loss: 0.0541 - accuracy: 0.9839 - val_loss: 0.0986 - val_accuracy: 0.9740\n",
            "Epoch 10/30\n",
            "750/750 [==============================] - 14s 18ms/step - loss: 0.0515 - accuracy: 0.9845 - val_loss: 0.0838 - val_accuracy: 0.9796\n",
            "Epoch 11/30\n",
            "750/750 [==============================] - 14s 19ms/step - loss: 0.0526 - accuracy: 0.9845 - val_loss: 0.0869 - val_accuracy: 0.9790\n",
            "Epoch 12/30\n",
            "750/750 [==============================] - 14s 19ms/step - loss: 0.0453 - accuracy: 0.9859 - val_loss: 0.0905 - val_accuracy: 0.9803\n",
            "Epoch 13/30\n",
            "750/750 [==============================] - 14s 19ms/step - loss: 0.0480 - accuracy: 0.9858 - val_loss: 0.0901 - val_accuracy: 0.9782\n",
            "Epoch 14/30\n",
            "750/750 [==============================] - 14s 18ms/step - loss: 0.0404 - accuracy: 0.9881 - val_loss: 0.1031 - val_accuracy: 0.9784\n",
            "Epoch 15/30\n",
            "750/750 [==============================] - 14s 19ms/step - loss: 0.0414 - accuracy: 0.9878 - val_loss: 0.0870 - val_accuracy: 0.9786\n",
            "Epoch 16/30\n",
            "750/750 [==============================] - 16s 21ms/step - loss: 0.0438 - accuracy: 0.9865 - val_loss: 0.0928 - val_accuracy: 0.9787\n",
            "Epoch 17/30\n",
            "750/750 [==============================] - 14s 19ms/step - loss: 0.0376 - accuracy: 0.9884 - val_loss: 0.0888 - val_accuracy: 0.9812\n",
            "Epoch 18/30\n",
            "750/750 [==============================] - 14s 19ms/step - loss: 0.0386 - accuracy: 0.9884 - val_loss: 0.0915 - val_accuracy: 0.9811\n",
            "Epoch 19/30\n",
            "750/750 [==============================] - 15s 19ms/step - loss: 0.0372 - accuracy: 0.9885 - val_loss: 0.0904 - val_accuracy: 0.9807\n",
            "Epoch 20/30\n",
            "750/750 [==============================] - 14s 19ms/step - loss: 0.0347 - accuracy: 0.9895 - val_loss: 0.1061 - val_accuracy: 0.9797\n",
            "Epoch 21/30\n",
            "750/750 [==============================] - 14s 19ms/step - loss: 0.0352 - accuracy: 0.9896 - val_loss: 0.1008 - val_accuracy: 0.9798\n",
            "Epoch 22/30\n",
            "750/750 [==============================] - 14s 19ms/step - loss: 0.0375 - accuracy: 0.9895 - val_loss: 0.1056 - val_accuracy: 0.9793\n",
            "Epoch 23/30\n",
            "750/750 [==============================] - 14s 19ms/step - loss: 0.0299 - accuracy: 0.9912 - val_loss: 0.1168 - val_accuracy: 0.9797\n",
            "Epoch 24/30\n",
            "750/750 [==============================] - 14s 19ms/step - loss: 0.0314 - accuracy: 0.9913 - val_loss: 0.1005 - val_accuracy: 0.9807\n",
            "Epoch 25/30\n",
            "750/750 [==============================] - 14s 19ms/step - loss: 0.0279 - accuracy: 0.9920 - val_loss: 0.1121 - val_accuracy: 0.9792\n",
            "Epoch 26/30\n",
            "750/750 [==============================] - 16s 22ms/step - loss: 0.0355 - accuracy: 0.9902 - val_loss: 0.0953 - val_accuracy: 0.9802\n",
            "Epoch 27/30\n",
            "750/750 [==============================] - 14s 19ms/step - loss: 0.0266 - accuracy: 0.9923 - val_loss: 0.0995 - val_accuracy: 0.9806\n",
            "Epoch 28/30\n",
            "750/750 [==============================] - 14s 19ms/step - loss: 0.0288 - accuracy: 0.9918 - val_loss: 0.1028 - val_accuracy: 0.9815\n",
            "Epoch 29/30\n",
            "750/750 [==============================] - 14s 19ms/step - loss: 0.0334 - accuracy: 0.9908 - val_loss: 0.1016 - val_accuracy: 0.9821\n",
            "Epoch 30/30\n",
            "750/750 [==============================] - 14s 18ms/step - loss: 0.0281 - accuracy: 0.9921 - val_loss: 0.1263 - val_accuracy: 0.9796\n"
          ]
        },
        {
          "output_type": "execute_result",
          "data": {
            "text/plain": [
              "<keras.src.callbacks.History at 0x7ecce3a4b0d0>"
            ]
          },
          "metadata": {},
          "execution_count": 60
        }
      ]
    },
    {
      "cell_type": "code",
      "source": [
        "import matplotlib.pyplot as plt\n",
        "%matplotlib inline\n",
        "# list all data in training\n",
        "print(training.history.keys())\n",
        "# summarize training for accuracy\n",
        "plt.plot(training.history['accuracy'])\n",
        "plt.plot(training.history['val_accuracy'])\n",
        "plt.title('model accuracy')\n",
        "plt.ylabel('accuracy')\n",
        "plt.xlabel('epoch')\n",
        "plt.legend(['train', 'test'], loc='upper left')\n",
        "plt.show()\n",
        "# summarize traning for loss\n",
        "plt.plot(training.history['loss'])\n",
        "plt.plot(training.history['val_loss'])\n",
        "plt.title('model loss')\n",
        "plt.ylabel('loss')\n",
        "plt.xlabel('epoch')\n",
        "plt.legend(['train', 'test'], loc='upper left')\n",
        "plt.show()"
      ],
      "metadata": {
        "colab": {
          "base_uri": "https://localhost:8080/",
          "height": 944
        },
        "id": "ziz0LHsSK33S",
        "outputId": "d19af5cd-c3fb-42cc-b8a0-ff37e7d6917e"
      },
      "execution_count": null,
      "outputs": [
        {
          "output_type": "stream",
          "name": "stdout",
          "text": [
            "dict_keys(['loss', 'accuracy', 'val_loss', 'val_accuracy'])\n"
          ]
        },
        {
          "output_type": "display_data",
          "data": {
            "text/plain": [
              "<Figure size 640x480 with 1 Axes>"
            ],
            "image/png": "[encoded data removed]"
          },
          "metadata": {}
        },
        {
          "output_type": "display_data",
          "data": {
            "text/plain": [
              "<Figure size 640x480 with 1 Axes>"
            ],
            "image/png": "[encoded data removed]"
          },
          "metadata": {}
        }
      ]
    },
    {
      "cell_type": "code",
      "source": [
        "test_loss, test_acc = model_6.evaluate(X_test,Y_test)\n",
        "print('Test accuracy:',test_acc)"
      ],
      "metadata": {
        "colab": {
          "base_uri": "https://localhost:8080/"
        },
        "id": "X03x5A8zL0tN",
        "outputId": "047ce20a-9485-4053-e758-f4c3e6e205ef"
      },
      "execution_count": null,
      "outputs": [
        {
          "output_type": "stream",
          "name": "stdout",
          "text": [
            "313/313 [==============================] - 1s 4ms/step - loss: 0.1114 - accuracy: 0.9795\n",
            "Test accuracy: 0.9794999957084656\n"
          ]
        }
      ]
    },
    {
      "cell_type": "code",
      "source": [
        "model_6.summary()"
      ],
      "metadata": {
        "colab": {
          "base_uri": "https://localhost:8080/"
        },
        "id": "5lMS3hGWL_1e",
        "outputId": "9b0ad3bb-3227-4d79-9e4e-1ecff49b12e1"
      },
      "execution_count": null,
      "outputs": [
        {
          "output_type": "stream",
          "name": "stdout",
          "text": [
            "Model: \"sequential_7\"\n",
            "_________________________________________________________________\n",
            " Layer (type)                Output Shape              Param #   \n",
            "=================================================================\n",
            " dense_layer_1 (Dense)       (None, 512)               401920    \n",
            "                                                                 \n",
            " dropout_10 (Dropout)        (None, 512)               0         \n",
            "                                                                 \n",
            " dense_layer_2 (Dense)       (None, 512)               262656    \n",
            "                                                                 \n",
            " dropout_11 (Dropout)        (None, 512)               0         \n",
            "                                                                 \n",
            " dense_layer_3 (Dense)       (None, 512)               262656    \n",
            "                                                                 \n",
            " dropout_12 (Dropout)        (None, 512)               0         \n",
            "                                                                 \n",
            " dense_layer_4 (Dense)       (None, 10)                5130      \n",
            "                                                                 \n",
            "=================================================================\n",
            "Total params: 932362 (3.56 MB)\n",
            "Trainable params: 932362 (3.56 MB)\n",
            "Non-trainable params: 0 (0.00 Byte)\n",
            "_________________________________________________________________\n"
          ]
        }
      ]
    },
    {
      "cell_type": "code",
      "source": [
        "model_6.get_config()"
      ],
      "metadata": {
        "colab": {
          "base_uri": "https://localhost:8080/"
        },
        "id": "gDgpF6m3MEtN",
        "outputId": "c9fb9f5d-b6ac-4043-c43e-ff2858946e79"
      },
      "execution_count": null,
      "outputs": [
        {
          "output_type": "execute_result",
          "data": {
            "text/plain": [
              "{'name': 'sequential_7',\n",
              " 'layers': [{'module': 'keras.layers',\n",
              "   'class_name': 'InputLayer',\n",
              "   'config': {'batch_input_shape': (None, 784),\n",
              "    'dtype': 'float32',\n",
              "    'sparse': False,\n",
              "    'ragged': False,\n",
              "    'name': 'dense_layer_1_input'},\n",
              "   'registered_name': None},\n",
              "  {'module': 'keras.layers',\n",
              "   'class_name': 'Dense',\n",
              "   'config': {'name': 'dense_layer_1',\n",
              "    'trainable': True,\n",
              "    'dtype': 'float32',\n",
              "    'batch_input_shape': (None, 784),\n",
              "    'units': 512,\n",
              "    'activation': 'relu',\n",
              "    'use_bias': True,\n",
              "    'kernel_initializer': {'module': 'keras.initializers',\n",
              "     'class_name': 'GlorotUniform',\n",
              "     'config': {'seed': None},\n",
              "     'registered_name': None},\n",
              "    'bias_initializer': {'module': 'keras.initializers',\n",
              "     'class_name': 'Zeros',\n",
              "     'config': {},\n",
              "     'registered_name': None},\n",
              "    'kernel_regularizer': None,\n",
              "    'bias_regularizer': None,\n",
              "    'activity_regularizer': None,\n",
              "    'kernel_constraint': None,\n",
              "    'bias_constraint': None},\n",
              "   'registered_name': None,\n",
              "   'build_config': {'input_shape': (None, 784)}},\n",
              "  {'module': 'keras.layers',\n",
              "   'class_name': 'Dropout',\n",
              "   'config': {'name': 'dropout_10',\n",
              "    'trainable': True,\n",
              "    'dtype': 'float32',\n",
              "    'rate': 0.3,\n",
              "    'noise_shape': None,\n",
              "    'seed': None},\n",
              "   'registered_name': None,\n",
              "   'build_config': {'input_shape': (None, 512)}},\n",
              "  {'module': 'keras.layers',\n",
              "   'class_name': 'Dense',\n",
              "   'config': {'name': 'dense_layer_2',\n",
              "    'trainable': True,\n",
              "    'dtype': 'float32',\n",
              "    'units': 512,\n",
              "    'activation': 'relu',\n",
              "    'use_bias': True,\n",
              "    'kernel_initializer': {'module': 'keras.initializers',\n",
              "     'class_name': 'GlorotUniform',\n",
              "     'config': {'seed': None},\n",
              "     'registered_name': None},\n",
              "    'bias_initializer': {'module': 'keras.initializers',\n",
              "     'class_name': 'Zeros',\n",
              "     'config': {},\n",
              "     'registered_name': None},\n",
              "    'kernel_regularizer': None,\n",
              "    'bias_regularizer': None,\n",
              "    'activity_regularizer': None,\n",
              "    'kernel_constraint': None,\n",
              "    'bias_constraint': None},\n",
              "   'registered_name': None,\n",
              "   'build_config': {'input_shape': (None, 512)}},\n",
              "  {'module': 'keras.layers',\n",
              "   'class_name': 'Dropout',\n",
              "   'config': {'name': 'dropout_11',\n",
              "    'trainable': True,\n",
              "    'dtype': 'float32',\n",
              "    'rate': 0.3,\n",
              "    'noise_shape': None,\n",
              "    'seed': None},\n",
              "   'registered_name': None,\n",
              "   'build_config': {'input_shape': (None, 512)}},\n",
              "  {'module': 'keras.layers',\n",
              "   'class_name': 'Dense',\n",
              "   'config': {'name': 'dense_layer_3',\n",
              "    'trainable': True,\n",
              "    'dtype': 'float32',\n",
              "    'units': 512,\n",
              "    'activation': 'relu',\n",
              "    'use_bias': True,\n",
              "    'kernel_initializer': {'module': 'keras.initializers',\n",
              "     'class_name': 'GlorotUniform',\n",
              "     'config': {'seed': None},\n",
              "     'registered_name': None},\n",
              "    'bias_initializer': {'module': 'keras.initializers',\n",
              "     'class_name': 'Zeros',\n",
              "     'config': {},\n",
              "     'registered_name': None},\n",
              "    'kernel_regularizer': None,\n",
              "    'bias_regularizer': None,\n",
              "    'activity_regularizer': None,\n",
              "    'kernel_constraint': None,\n",
              "    'bias_constraint': None},\n",
              "   'registered_name': None,\n",
              "   'build_config': {'input_shape': (None, 512)}},\n",
              "  {'module': 'keras.layers',\n",
              "   'class_name': 'Dropout',\n",
              "   'config': {'name': 'dropout_12',\n",
              "    'trainable': True,\n",
              "    'dtype': 'float32',\n",
              "    'rate': 0.3,\n",
              "    'noise_shape': None,\n",
              "    'seed': None},\n",
              "   'registered_name': None,\n",
              "   'build_config': {'input_shape': (None, 512)}},\n",
              "  {'module': 'keras.layers',\n",
              "   'class_name': 'Dense',\n",
              "   'config': {'name': 'dense_layer_4',\n",
              "    'trainable': True,\n",
              "    'dtype': 'float32',\n",
              "    'units': 10,\n",
              "    'activation': 'softmax',\n",
              "    'use_bias': True,\n",
              "    'kernel_initializer': {'module': 'keras.initializers',\n",
              "     'class_name': 'GlorotUniform',\n",
              "     'config': {'seed': None},\n",
              "     'registered_name': None},\n",
              "    'bias_initializer': {'module': 'keras.initializers',\n",
              "     'class_name': 'Zeros',\n",
              "     'config': {},\n",
              "     'registered_name': None},\n",
              "    'kernel_regularizer': None,\n",
              "    'bias_regularizer': None,\n",
              "    'activity_regularizer': None,\n",
              "    'kernel_constraint': None,\n",
              "    'bias_constraint': None},\n",
              "   'registered_name': None,\n",
              "   'build_config': {'input_shape': (None, 512)}}]}"
            ]
          },
          "metadata": {},
          "execution_count": 64
        }
      ]
    }
  ]
}